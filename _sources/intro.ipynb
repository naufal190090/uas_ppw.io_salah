{
 "cells": [
  {
   "cell_type": "markdown",
   "metadata": {},
   "source": [
    "# Crawling Web"
   ]
  },
  {
   "cell_type": "markdown",
   "metadata": {},
   "source": [
    "### Crwaling Web Adalah"
   ]
  },
  {
   "cell_type": "markdown",
   "metadata": {},
   "source": [
    "Jadi crawling web adalah sebuah proses dimana kita akan mengambil sebuah data dari sebuah web menggunakan code. Untuk crawling web saya menggunakan file python biasa yang harus menggunakan visual studio code, berikut ini adalah code nya:"
   ]
  },
  {
   "cell_type": "code",
   "execution_count": 57,
   "metadata": {},
   "outputs": [],
   "source": [
    "import scrapy\n",
    "\n",
    "\n",
    "class QuotesSpider(scrapy.Spider):\n",
    "    name = \"quotes\"\n",
    "\n",
    "    def start_requests(self):\n",
    "        x = 100000\n",
    "        for i in range (1,500):\n",
    "            x +=1\n",
    "            urls = [\n",
    "                'https://pta.trunojoyo.ac.id/welcome/detail/070411'+str(x),\n",
    "                'https://pta.trunojoyo.ac.id/welcome/detail/040411'+str(x),\n",
    "            ]\n",
    "            for url in urls:\n",
    "                yield scrapy.Request(url=url, callback=self.parse)\n",
    "\n",
    "    def parse(self, response):\n",
    "        yield{\n",
    "            'judul':response.css('#content_journal > ul > li > div:nth-child(2) > a::text').extract(),\n",
    "            'Penulis':response.css('#content_journal > ul > li > div:nth-child(2) > div:nth-child(2) > span::text').extract(),\n",
    "            'Pembimbing 1':response.css('#content_journal > ul > li > div:nth-child(2) > div:nth-child(3) > span::text').extract(),\n",
    "            'Pembimbing 2':response.css('#content_journal > ul > li > div:nth-child(2) > div:nth-child(4) > span::text').extract(),\n",
    "            'Abstrak':response.css('#content_journal > ul > li > div:nth-child(4) > div:nth-child(2) > p::text').extract(),\n",
    "            'Abstract':response.css('#content_journal > ul > li > div:nth-child(4) > div:nth-child(4) > p::text').extract()\n",
    "        }\n",
    "        "
   ]
  },
  {
   "cell_type": "markdown",
   "metadata": {},
   "source": [
    "sebelum menjalankan code diatas harus menginstal terlebih dahulu framework scrapy dengan cara\n",
    "buka cmd menggunakan run as administrator\n",
    "setelah itu ketikkan"
   ]
  },
  {
   "cell_type": "code",
   "execution_count": 1,
   "metadata": {},
   "outputs": [
    {
     "name": "stdout",
     "output_type": "stream",
     "text": [
      "Requirement already satisfied: scrapy in c:\\users\\naufal aslam\\appdata\\local\\programs\\python\\python39\\lib\\site-packages (2.6.1)\n",
      "Requirement already satisfied: service-identity>=16.0.0 in c:\\users\\naufal aslam\\appdata\\local\\programs\\python\\python39\\lib\\site-packages (from scrapy) (21.1.0)\n",
      "Requirement already satisfied: itemadapter>=0.1.0 in c:\\users\\naufal aslam\\appdata\\local\\programs\\python\\python39\\lib\\site-packages (from scrapy) (0.4.0)\n",
      "Requirement already satisfied: parsel>=1.5.0 in c:\\users\\naufal aslam\\appdata\\local\\programs\\python\\python39\\lib\\site-packages (from scrapy) (1.6.0)\n",
      "Requirement already satisfied: lxml>=3.5.0 in c:\\users\\naufal aslam\\appdata\\local\\programs\\python\\python39\\lib\\site-packages (from scrapy) (4.8.0)\n",
      "Requirement already satisfied: w3lib>=1.17.0 in c:\\users\\naufal aslam\\appdata\\local\\programs\\python\\python39\\lib\\site-packages (from scrapy) (1.22.0)\n",
      "Requirement already satisfied: protego>=0.1.15 in c:\\users\\naufal aslam\\appdata\\local\\programs\\python\\python39\\lib\\site-packages (from scrapy) (0.2.1)\n",
      "Requirement already satisfied: zope.interface>=4.1.3 in c:\\users\\naufal aslam\\appdata\\local\\programs\\python\\python39\\lib\\site-packages (from scrapy) (5.4.0)\n",
      "Requirement already satisfied: cryptography>=2.0 in c:\\users\\naufal aslam\\appdata\\local\\programs\\python\\python39\\lib\\site-packages (from scrapy) (36.0.1)\n",
      "Requirement already satisfied: Twisted>=17.9.0 in c:\\users\\naufal aslam\\appdata\\local\\programs\\python\\python39\\lib\\site-packages (from scrapy) (22.2.0)\n",
      "Requirement already satisfied: setuptools in c:\\users\\naufal aslam\\appdata\\local\\programs\\python\\python39\\lib\\site-packages (from scrapy) (56.0.0)\n",
      "Requirement already satisfied: queuelib>=1.4.2 in c:\\users\\naufal aslam\\appdata\\local\\programs\\python\\python39\\lib\\site-packages (from scrapy) (1.6.2)\n",
      "Requirement already satisfied: PyDispatcher>=2.0.5 in c:\\users\\naufal aslam\\appdata\\local\\programs\\python\\python39\\lib\\site-packages (from scrapy) (2.0.5)\n",
      "Requirement already satisfied: pyOpenSSL>=16.2.0 in c:\\users\\naufal aslam\\appdata\\local\\programs\\python\\python39\\lib\\site-packages (from scrapy) (22.0.0)\n",
      "Requirement already satisfied: cssselect>=0.9.1 in c:\\users\\naufal aslam\\appdata\\local\\programs\\python\\python39\\lib\\site-packages (from scrapy) (1.1.0)\n",
      "Requirement already satisfied: itemloaders>=1.0.1 in c:\\users\\naufal aslam\\appdata\\local\\programs\\python\\python39\\lib\\site-packages (from scrapy) (1.0.4)\n",
      "Requirement already satisfied: tldextract in c:\\users\\naufal aslam\\appdata\\local\\programs\\python\\python39\\lib\\site-packages (from scrapy) (3.2.0)\n",
      "Requirement already satisfied: cffi>=1.12 in c:\\users\\naufal aslam\\appdata\\local\\programs\\python\\python39\\lib\\site-packages (from cryptography>=2.0->scrapy) (1.15.0)\n",
      "Requirement already satisfied: jmespath>=0.9.5 in c:\\users\\naufal aslam\\appdata\\local\\programs\\python\\python39\\lib\\site-packages (from itemloaders>=1.0.1->scrapy) (0.10.0)\n",
      "Requirement already satisfied: six>=1.6.0 in c:\\users\\naufal aslam\\appdata\\local\\programs\\python\\python39\\lib\\site-packages (from parsel>=1.5.0->scrapy) (1.16.0)\n",
      "Requirement already satisfied: pyasn1-modules in c:\\users\\naufal aslam\\appdata\\local\\programs\\python\\python39\\lib\\site-packages (from service-identity>=16.0.0->scrapy) (0.2.8)\n",
      "Requirement already satisfied: attrs>=19.1.0 in c:\\users\\naufal aslam\\appdata\\local\\programs\\python\\python39\\lib\\site-packages (from service-identity>=16.0.0->scrapy) (21.2.0)\n",
      "Requirement already satisfied: pyasn1 in c:\\users\\naufal aslam\\appdata\\local\\programs\\python\\python39\\lib\\site-packages (from service-identity>=16.0.0->scrapy) (0.4.8)\n",
      "Requirement already satisfied: twisted-iocpsupport<2,>=1.0.2 in c:\\users\\naufal aslam\\appdata\\local\\programs\\python\\python39\\lib\\site-packages (from Twisted>=17.9.0->scrapy) (1.0.2)\n",
      "Requirement already satisfied: typing-extensions>=3.6.5 in c:\\users\\naufal aslam\\appdata\\local\\programs\\python\\python39\\lib\\site-packages (from Twisted>=17.9.0->scrapy) (4.0.1)\n",
      "Requirement already satisfied: incremental>=21.3.0 in c:\\users\\naufal aslam\\appdata\\local\\programs\\python\\python39\\lib\\site-packages (from Twisted>=17.9.0->scrapy) (21.3.0)\n",
      "Requirement already satisfied: Automat>=0.8.0 in c:\\users\\naufal aslam\\appdata\\local\\programs\\python\\python39\\lib\\site-packages (from Twisted>=17.9.0->scrapy) (20.2.0)\n",
      "Requirement already satisfied: hyperlink>=17.1.1 in c:\\users\\naufal aslam\\appdata\\local\\programs\\python\\python39\\lib\\site-packages (from Twisted>=17.9.0->scrapy) (21.0.0)\n",
      "Requirement already satisfied: constantly>=15.1 in c:\\users\\naufal aslam\\appdata\\local\\programs\\python\\python39\\lib\\site-packages (from Twisted>=17.9.0->scrapy) (15.1.0)\n",
      "Requirement already satisfied: requests>=2.1.0 in c:\\users\\naufal aslam\\appdata\\local\\programs\\python\\python39\\lib\\site-packages (from tldextract->scrapy) (2.26.0)\n",
      "Requirement already satisfied: requests-file>=1.4 in c:\\users\\naufal aslam\\appdata\\local\\programs\\python\\python39\\lib\\site-packages (from tldextract->scrapy) (1.5.1)\n",
      "Requirement already satisfied: filelock>=3.0.8 in c:\\users\\naufal aslam\\appdata\\local\\programs\\python\\python39\\lib\\site-packages (from tldextract->scrapy) (3.6.0)\n",
      "Requirement already satisfied: idna in c:\\users\\naufal aslam\\appdata\\local\\programs\\python\\python39\\lib\\site-packages (from tldextract->scrapy) (3.3)\n",
      "Requirement already satisfied: pycparser in c:\\users\\naufal aslam\\appdata\\local\\programs\\python\\python39\\lib\\site-packages (from cffi>=1.12->cryptography>=2.0->scrapy) (2.20)\n",
      "Requirement already satisfied: urllib3<1.27,>=1.21.1 in c:\\users\\naufal aslam\\appdata\\local\\programs\\python\\python39\\lib\\site-packages (from requests>=2.1.0->tldextract->scrapy) (1.26.7)\n",
      "Requirement already satisfied: charset-normalizer~=2.0.0 in c:\\users\\naufal aslam\\appdata\\local\\programs\\python\\python39\\lib\\site-packages (from requests>=2.1.0->tldextract->scrapy) (2.0.7)\n",
      "Requirement already satisfied: certifi>=2017.4.17 in c:\\users\\naufal aslam\\appdata\\local\\programs\\python\\python39\\lib\\site-packages (from requests>=2.1.0->tldextract->scrapy) (2021.10.8)\n",
      "Note: you may need to restart the kernel to use updated packages.\n"
     ]
    }
   ],
   "source": [
    "pip install scrapy"
   ]
  },
  {
   "cell_type": "markdown",
   "metadata": {},
   "source": [
    "code diatas digunakan untuk melakukan instalasi scrapy menggunakan cmd"
   ]
  },
  {
   "cell_type": "markdown",
   "metadata": {},
   "source": [
    "### Melakukan Crawling Web"
   ]
  },
  {
   "cell_type": "markdown",
   "metadata": {},
   "source": [
    "untuk menjalankannya pertama harus di save terlebih dahulu code diatas didalam file berformat py. setelah itu buka menggunakan visual studio code dengan cara open folder dimana file tersebut disimpan bukan open file tersebut. setelah folder tempat file crawling itu dibuka tinggal buka file nya setelah itu buka terminal dan ketikkan"
   ]
  },
  {
   "cell_type": "markdown",
   "metadata": {},
   "source": [
    "**scrapy runspider nama_file.py -o data_awal_crawling.csv**"
   ]
  },
  {
   "cell_type": "markdown",
   "metadata": {},
   "source": [
    "hasil dari save code diatas akan menghasilkan file berformat csv dimana akan ada banyak kolom kosong yang ada\n",
    "oleh karena itu maka diperlukan sedikit modifikasi untuk menghapus kolom yang kosong dan sekaligus mengubah file dari csv ke xlsx\n",
    "berikut ini kodenya"
   ]
  },
  {
   "cell_type": "markdown",
   "metadata": {},
   "source": [
    "## Menghilangkan Kolom Kosong"
   ]
  },
  {
   "cell_type": "code",
   "execution_count": 49,
   "metadata": {},
   "outputs": [],
   "source": [
    "import pandas as pd\n",
    "data = pd.read_csv('hasil_crawling_awal.csv')"
   ]
  },
  {
   "cell_type": "markdown",
   "metadata": {},
   "source": [
    "code diatas digunakan untuk mengimportkan library pandas yang akan digunakan untuk code selanjutnya. Lalu baris kedua digunakan untuk membaca file yang sudah di crawling."
   ]
  },
  {
   "cell_type": "code",
   "execution_count": 50,
   "metadata": {},
   "outputs": [
    {
     "data": {
      "text/plain": [
       "judul           0\n",
       "Penulis         0\n",
       "Pembimbing 1    0\n",
       "Pembimbing 2    0\n",
       "Abstrak         0\n",
       "Abstract        0\n",
       "dtype: int64"
      ]
     },
     "execution_count": 50,
     "metadata": {},
     "output_type": "execute_result"
    }
   ],
   "source": [
    "data.dropna(inplace=True)\n",
    "data.isnull().sum()"
   ]
  },
  {
   "cell_type": "markdown",
   "metadata": {},
   "source": [
    "pada code di atas baris pertama digunakan untuk menghapus baris kosong, lalu baris kedua digunakan untuk medeteksi missing value kemudian dijumlahkan. setelah itu hasilnya di save dalam format xlsx dengan menggunakan code dibawah ini."
   ]
  },
  {
   "cell_type": "code",
   "execution_count": 51,
   "metadata": {},
   "outputs": [],
   "source": [
    "data.to_excel(\"hasil_crawling.xlsx\")"
   ]
  },
  {
   "cell_type": "markdown",
   "metadata": {
    "_uuid": "9341bf79ac503efb2b0c19cae84b17b48c30e211"
   },
   "source": [
    "## Latent Semantic Analysis (LSA)"
   ]
  },
  {
   "cell_type": "markdown",
   "metadata": {
    "_uuid": "e5d7c8f848246a160104b0002220baf4c95e9eb2"
   },
   "source": [
    "Latent Semantic Analysis adalah suatu algoritma yang dapat digunakan untuk melakukan analisis pada frase/kalimat dalam sekumpulan dokumen, analisis yang dilakukan adalah menganalisa apakah setiap frase/kalimat memiliki hubungan antara lain atau tidak.Pada proses LSA akan menggunakan Singularity Value Decomposition (SVD atau dekomposisi nilai tunggal untuk mengambil informasi dan melakukan pengklasifikasian. kali ini yang dicari adalah hubungan setiap topik yang ada pada data hasil ceawling web yang sudah di lakukan preprocessing. berikut ini adalah langkah langkah nya"
   ]
  },
  {
   "cell_type": "markdown",
   "metadata": {
    "_uuid": "3f9de996a68ce9d21cb302f795a0c8f667784879",
    "tags": []
   },
   "source": [
    "## Text Processing"
   ]
  },
  {
   "cell_type": "markdown",
   "metadata": {
    "_uuid": "290af1f20803420483653e4e447732f4658900ec"
   },
   "source": [
    "Langkah ini sangat dibutuhkan dikarenakan data awal tersebut masih tidak teratur jadi akan diolah agar siap untuk diproses pada langkah selanjutnya. berikut ini adalah langkah langkah dari preprocessing"
   ]
  },
  {
   "cell_type": "markdown",
   "metadata": {
    "_uuid": "827e42f1d6fbd87d0858fd90555a280782a2ed73"
   },
   "source": [
    "## Import Modules"
   ]
  },
  {
   "cell_type": "code",
   "execution_count": 159,
   "metadata": {
    "_uuid": "39f140e85d319161012fb67f258dd6b339545b0a",
    "id": "5O5_-2kTGD6V"
   },
   "outputs": [],
   "source": [
    "# data visualisation and manipulation\n",
    "import numpy as np\n",
    "import pandas as pd\n",
    "import matplotlib.pyplot as plt\n",
    "from matplotlib import style\n",
    "import seaborn as sns\n",
    "from openpyxl import load_workbook #library untuk menampilkan dokumen\n",
    "#configure\n",
    "#import nltk\n",
    "import nltk\n",
    "from nltk.corpus import stopwords\n",
    "from nltk.tokenize import word_tokenize,sent_tokenize\n",
    "\n",
    "#preprocessing\n",
    "from nltk.corpus import stopwords  #stopwords\n",
    "from nltk import word_tokenize,sent_tokenize # tokenizing\n",
    "from nltk.stem import PorterStemmer,LancasterStemmer  # using the Porter Stemmer and Lancaster Stemmer and others\n",
    "from nltk.stem.snowball import SnowballStemmer\n",
    "from nltk.stem import WordNetLemmatizer  # lammatizer from WordNet\n",
    "\n",
    "# for named entity recognition (NER)\n",
    "from nltk import ne_chunk\n",
    "\n",
    "# vectorizers for creating the document-term-matrix (DTM)\n",
    "from sklearn.feature_extraction.text import TfidfVectorizer,CountVectorizer\n",
    "\n",
    "#stop-words\n",
    "stop_words=set(nltk.corpus.stopwords.words('english'))"
   ]
  },
  {
   "cell_type": "markdown",
   "metadata": {
    "_uuid": "fd492c7bc386ce83719ea3172baf526b9acaaecb"
   },
   "source": [
    "Code diatas digunakan untuk mengimport berbagai library yang akan digunakan pada code selanjutnya. "
   ]
  },
  {
   "cell_type": "markdown",
   "metadata": {
    "_uuid": "a2b520342f1761de78285e76aa6327d9d37b1f4e"
   },
   "source": [
    "## Loading Dataset"
   ]
  },
  {
   "cell_type": "code",
   "execution_count": 103,
   "metadata": {
    "_uuid": "aad495ed355e99947bc3b9816cfad0ff430c17e5",
    "id": "xaPWCpthHVIS"
   },
   "outputs": [],
   "source": [
    "wr = load_workbook(filename = 'hasil_crawling.xlsx')\n",
    "sheet_range = wr['Sheet1']\n",
    "\n",
    "data = pd.DataFrame(sheet_range.values)\n",
    "data.columns = ['','judul','Penulis', 'Pembimbing 1','Pembimbing 2', 'Abstrak', 'Abstract']\n"
   ]
  },
  {
   "cell_type": "markdown",
   "metadata": {},
   "source": [
    "code diatas digunakan untuk membaca file yang bernama \"hasil_crawling.xlsx\". setelah itu pada baris ke 2 digunakan untuk mengambil hanya pada sheet 1 yang ada pada file excel. lalu langkah selanjutnya adalah untuk mengambil kolom pada baris pertama dengan nama yang sudah tertera pada baris ke 5."
   ]
  },
  {
   "cell_type": "code",
   "execution_count": 104,
   "metadata": {
    "_uuid": "e09dd69ffa2bae1920f3e10b1af0a8ce0f8ae16d",
    "id": "Wwf4uKjTIYm2",
    "outputId": "9fac48b8-49af-44ff-f06b-d4b7440110b7"
   },
   "outputs": [
    {
     "data": {
      "text/html": [
       "<div>\n",
       "<style scoped>\n",
       "    .dataframe tbody tr th:only-of-type {\n",
       "        vertical-align: middle;\n",
       "    }\n",
       "\n",
       "    .dataframe tbody tr th {\n",
       "        vertical-align: top;\n",
       "    }\n",
       "\n",
       "    .dataframe thead th {\n",
       "        text-align: right;\n",
       "    }\n",
       "</style>\n",
       "<table border=\"1\" class=\"dataframe\">\n",
       "  <thead>\n",
       "    <tr style=\"text-align: right;\">\n",
       "      <th></th>\n",
       "      <th></th>\n",
       "      <th>judul</th>\n",
       "      <th>Penulis</th>\n",
       "      <th>Pembimbing 1</th>\n",
       "      <th>Pembimbing 2</th>\n",
       "      <th>Abstrak</th>\n",
       "      <th>Abstract</th>\n",
       "    </tr>\n",
       "  </thead>\n",
       "  <tbody>\n",
       "    <tr>\n",
       "      <th>0</th>\n",
       "      <td>NaN</td>\n",
       "      <td>judul</td>\n",
       "      <td>Penulis</td>\n",
       "      <td>Pembimbing 1</td>\n",
       "      <td>Pembimbing 2</td>\n",
       "      <td>Abstrak</td>\n",
       "      <td>Abstract</td>\n",
       "    </tr>\n",
       "    <tr>\n",
       "      <th>1</th>\n",
       "      <td>0.0</td>\n",
       "      <td>PENGARUH PERILAKU KONSUMEN TERHADAP KEPUTUSAN ...</td>\n",
       "      <td>Penulis : Hardik Pratama Suryanto</td>\n",
       "      <td>Dosen Pembimbing I : Dr. H. Pribanus Wantara, ...</td>\n",
       "      <td>Dosen Pembimbing II :Dr. H. Muh. Syarif, Drs.,...</td>\n",
       "      <td>\\nHardik Pratama S. 2014. Pengaruh Perilaku Ko...</td>\n",
       "      <td>ABSTRACT_x000D_\\nHardik Pratama S. 2014. The I...</td>\n",
       "    </tr>\n",
       "    <tr>\n",
       "      <th>2</th>\n",
       "      <td>9.0</td>\n",
       "      <td>Bauran Pemasaran Terhadap Keputusan Pembelian ...</td>\n",
       "      <td>Penulis : Ervan Agus Feryanto</td>\n",
       "      <td>Dosen Pembimbing I : Dr.Ir.Nurita Andriani.MM</td>\n",
       "      <td>Dosen Pembimbing II :Nirma Kurriwati SP.M.Si</td>\n",
       "      <td>Perkembangan dan kemajuan industri, salah satu...</td>\n",
       "      <td>The development and progress of industries can...</td>\n",
       "    </tr>\n",
       "    <tr>\n",
       "      <th>3</th>\n",
       "      <td>10.0</td>\n",
       "      <td>Pengaruh Komunikasi yang Efektif Dalam Organis...</td>\n",
       "      <td>Penulis : Zulsiamsyah Yuri</td>\n",
       "      <td>Dosen Pembimbing I : Dr. Hj. Anugrahini SE., M...</td>\n",
       "      <td>Dosen Pembimbing II :Faidal SE.,MM.</td>\n",
       "      <td>Produktifitas karyawan sangat dibutuhkan perus...</td>\n",
       "      <td>Laborer productivity is really needed by compa...</td>\n",
       "    </tr>\n",
       "    <tr>\n",
       "      <th>4</th>\n",
       "      <td>19.0</td>\n",
       "      <td>PENGARUH KEMAMPUAN DAN MOTIVASI KARYAWAN TERHA...</td>\n",
       "      <td>Penulis : Lussiana Kurniati</td>\n",
       "      <td>Dosen Pembimbing I : Alkirom Wildan</td>\n",
       "      <td>Dosen Pembimbing II :Mudji Kuswinarno</td>\n",
       "      <td>Tujuan dari penelitian ini adalah mengetahui p...</td>\n",
       "      <td>The purpose of study is to determine the influ...</td>\n",
       "    </tr>\n",
       "  </tbody>\n",
       "</table>\n",
       "</div>"
      ],
      "text/plain": [
       "                                                     judul  \\\n",
       "0   NaN                                              judul   \n",
       "1   0.0  PENGARUH PERILAKU KONSUMEN TERHADAP KEPUTUSAN ...   \n",
       "2   9.0  Bauran Pemasaran Terhadap Keputusan Pembelian ...   \n",
       "3  10.0  Pengaruh Komunikasi yang Efektif Dalam Organis...   \n",
       "4  19.0  PENGARUH KEMAMPUAN DAN MOTIVASI KARYAWAN TERHA...   \n",
       "\n",
       "                             Penulis  \\\n",
       "0                            Penulis   \n",
       "1  Penulis : Hardik Pratama Suryanto   \n",
       "2      Penulis : Ervan Agus Feryanto   \n",
       "3         Penulis : Zulsiamsyah Yuri   \n",
       "4        Penulis : Lussiana Kurniati   \n",
       "\n",
       "                                        Pembimbing 1  \\\n",
       "0                                       Pembimbing 1   \n",
       "1  Dosen Pembimbing I : Dr. H. Pribanus Wantara, ...   \n",
       "2      Dosen Pembimbing I : Dr.Ir.Nurita Andriani.MM   \n",
       "3  Dosen Pembimbing I : Dr. Hj. Anugrahini SE., M...   \n",
       "4                Dosen Pembimbing I : Alkirom Wildan   \n",
       "\n",
       "                                        Pembimbing 2  \\\n",
       "0                                       Pembimbing 2   \n",
       "1  Dosen Pembimbing II :Dr. H. Muh. Syarif, Drs.,...   \n",
       "2       Dosen Pembimbing II :Nirma Kurriwati SP.M.Si   \n",
       "3                Dosen Pembimbing II :Faidal SE.,MM.   \n",
       "4              Dosen Pembimbing II :Mudji Kuswinarno   \n",
       "\n",
       "                                             Abstrak  \\\n",
       "0                                            Abstrak   \n",
       "1  \\nHardik Pratama S. 2014. Pengaruh Perilaku Ko...   \n",
       "2  Perkembangan dan kemajuan industri, salah satu...   \n",
       "3  Produktifitas karyawan sangat dibutuhkan perus...   \n",
       "4  Tujuan dari penelitian ini adalah mengetahui p...   \n",
       "\n",
       "                                            Abstract  \n",
       "0                                           Abstract  \n",
       "1  ABSTRACT_x000D_\\nHardik Pratama S. 2014. The I...  \n",
       "2  The development and progress of industries can...  \n",
       "3  Laborer productivity is really needed by compa...  \n",
       "4  The purpose of study is to determine the influ...  "
      ]
     },
     "execution_count": 104,
     "metadata": {},
     "output_type": "execute_result"
    }
   ],
   "source": [
    "data.head()"
   ]
  },
  {
   "cell_type": "markdown",
   "metadata": {
    "_uuid": "dcaba93fba40631607159165262af6cb846fa501"
   },
   "source": [
    "code diatas digunakan untuk menampilkan hasil dari file yang sudah dibaca pada code sebelumnya."
   ]
  },
  {
   "cell_type": "code",
   "execution_count": 139,
   "metadata": {
    "_uuid": "bd907b93c352fce35e8e6a886c01e9cf344ce455",
    "id": "FxegmHWtI3eJ",
    "outputId": "d0d3d76b-982e-422a-cdab-e05dfa72c536"
   },
   "outputs": [
    {
     "data": {
      "text/html": [
       "<div>\n",
       "<style scoped>\n",
       "    .dataframe tbody tr th:only-of-type {\n",
       "        vertical-align: middle;\n",
       "    }\n",
       "\n",
       "    .dataframe tbody tr th {\n",
       "        vertical-align: top;\n",
       "    }\n",
       "\n",
       "    .dataframe thead th {\n",
       "        text-align: right;\n",
       "    }\n",
       "</style>\n",
       "<table border=\"1\" class=\"dataframe\">\n",
       "  <thead>\n",
       "    <tr style=\"text-align: right;\">\n",
       "      <th></th>\n",
       "      <th>Abstrak</th>\n",
       "    </tr>\n",
       "  </thead>\n",
       "  <tbody>\n",
       "    <tr>\n",
       "      <th>0</th>\n",
       "      <td>Abstrak</td>\n",
       "    </tr>\n",
       "    <tr>\n",
       "      <th>1</th>\n",
       "      <td>\\nHardik Pratama S. 2014. Pengaruh Perilaku Ko...</td>\n",
       "    </tr>\n",
       "    <tr>\n",
       "      <th>2</th>\n",
       "      <td>Perkembangan dan kemajuan industri, salah satu...</td>\n",
       "    </tr>\n",
       "    <tr>\n",
       "      <th>3</th>\n",
       "      <td>Produktifitas karyawan sangat dibutuhkan perus...</td>\n",
       "    </tr>\n",
       "    <tr>\n",
       "      <th>4</th>\n",
       "      <td>Tujuan dari penelitian ini adalah mengetahui p...</td>\n",
       "    </tr>\n",
       "  </tbody>\n",
       "</table>\n",
       "</div>"
      ],
      "text/plain": [
       "                                             Abstrak\n",
       "0                                            Abstrak\n",
       "1  \\nHardik Pratama S. 2014. Pengaruh Perilaku Ko...\n",
       "2  Perkembangan dan kemajuan industri, salah satu...\n",
       "3  Produktifitas karyawan sangat dibutuhkan perus...\n",
       "4  Tujuan dari penelitian ini adalah mengetahui p..."
      ]
     },
     "execution_count": 139,
     "metadata": {},
     "output_type": "execute_result"
    }
   ],
   "source": [
    "df = data[['Abstrak']]\n",
    "df.head()"
   ]
  },
  {
   "cell_type": "markdown",
   "metadata": {},
   "source": [
    "setelah itu membuat variabel yang hanya berisi kolom dari Abstrak."
   ]
  },
  {
   "cell_type": "markdown",
   "metadata": {
    "_uuid": "2043c3fc7cb55f29282da53bf8ce8315aec19556"
   },
   "source": [
    "## Data Cleaning dan Preprocessing Teks"
   ]
  },
  {
   "cell_type": "markdown",
   "metadata": {
    "_uuid": "dbd9e74a45cef82d83251327066f919c2a7ee08b"
   },
   "source": [
    "pada langkah ini digunakan untuk menghilangkan kata tambahan yaitu kata yang karakternya kurang dari 3 angka."
   ]
  },
  {
   "cell_type": "code",
   "execution_count": 140,
   "metadata": {
    "_uuid": "c01abf16fc6c3b72873a40246d88f4f2d84af6a6",
    "id": "10MF-YmnI7vp"
   },
   "outputs": [],
   "source": [
    "def clean_text(headline):\n",
    "  le=WordNetLemmatizer()\n",
    "  word_tokens=word_tokenize(headline)\n",
    "  tokens=[le.lemmatize(w) for w in word_tokens if w not in stop_words and len(w)>3]\n",
    "  cleaned_text=\" \".join(tokens)\n",
    "  return cleaned_text\n",
    "  \n",
    "  "
   ]
  },
  {
   "cell_type": "markdown",
   "metadata": {},
   "source": [
    "pada code disini adalah membuat sebuah fungsi yang berfungsi untuk melakukan data cleaning."
   ]
  },
  {
   "cell_type": "code",
   "execution_count": 156,
   "metadata": {},
   "outputs": [
    {
     "data": {
      "text/plain": [
       "0                                              Abstrak\n",
       "1    Hardik Pratama 2014 Pengaruh Perilaku Konsumen...\n",
       "2    Perkembangan kemajuan industri salah satunya k...\n",
       "3    Produktifitas karyawan sangat dibutuhkan perus...\n",
       "4    Tujuan dari penelitian adalah mengetahui penga...\n",
       "Name: Abstrak, dtype: object"
      ]
     },
     "execution_count": 156,
     "metadata": {},
     "output_type": "execute_result"
    }
   ],
   "source": [
    "df_bersih = df['Abstrak'].apply(clean_text)\n",
    "df_bersih.head()"
   ]
  },
  {
   "cell_type": "markdown",
   "metadata": {
    "_uuid": "79d7fa2c195ec7a4b5410885cea4dbc7e58db316",
    "id": "Wuos0NVsVJFg"
   },
   "source": [
    "disini dapat terlihat perbedaan dari kata sebelum dilakukan preprocessing dan sesudah dimana kata ada dihilangkan."
   ]
  },
  {
   "cell_type": "code",
   "execution_count": 137,
   "metadata": {},
   "outputs": [
    {
     "data": {
      "text/plain": [
       "0                                              Abstrak\n",
       "1    Hardik Pratama 2014 Pengaruh Perilaku Konsumen...\n",
       "2    Perkembangan kemajuan industri salah satunya k...\n",
       "3    Produktifitas karyawan sangat dibutuhkan perus...\n",
       "4    Tujuan dari penelitian adalah mengetahui penga...\n",
       "Name: Abstrak, dtype: object"
      ]
     },
     "execution_count": 137,
     "metadata": {},
     "output_type": "execute_result"
    }
   ],
   "source": [
    "df = df_bersih\n",
    "df.head()"
   ]
  },
  {
   "cell_type": "markdown",
   "metadata": {},
   "source": [
    "# Menghilangkan Angka"
   ]
  },
  {
   "cell_type": "code",
   "execution_count": 68,
   "metadata": {},
   "outputs": [],
   "source": [
    "import re\n",
    "dokumenre=[]\n",
    "for i in df:\n",
    "    hasil = re.sub(r\"\\d+\", \"\", i)\n",
    "    dokumenre.append(hasil) "
   ]
  },
  {
   "cell_type": "code",
   "execution_count": 69,
   "metadata": {},
   "outputs": [
    {
     "name": "stdout",
     "output_type": "stream",
     "text": [
      "['Abstrak', 'Hardik Pratama  Pengaruh Perilaku Konsumen Terhadap Keputusan Pembelian Makanan Tradisional Kabupaten Bangkalan bawah bimbingan Pribanus Wantara Drs. Syarif Drs.Ec. Si._xD_ Tujuan penelitian adalah untuk mengetahui pengaruh perilaku konsumen yang terdiri dari kebudayaan sosial pribadi psikologis secara simultan terhadap keputusan pembelian makanan tradisional kabupaten Bangkalan untuk mengetahui variabel perilaku konsumen yang berpengaruh dominan terhadap keputusan pembelian makanan tradisional kabupaten Bangkalan._xD_ Penelitian menggunakan pendekatan pendekatan kuantitatif yang berusaha untuk mengetahui bagaimana pengaruh perilaku konsumen terhadap keputsan pembelian makanan tradisional kabupaten Bangkalan Teknik pengambilan sampel menggunakan purposive sampling dengan responden Teknik pengumpulan data yaitu dengan wawancara kuesioner menggunakan skala likert untuk mengukur jawaban responden Untuk menguji instrumen menggunakan validitas reliabilitas asumsi klasik Sedangkan teknik analisis data yaitu menggunakan analisis regresi linier berganda karena variabel yang digunakan lebih dari variabel dengan t._xD_ Hasil penelitian menunjukkan bahwa variabel perilaku konsumen yang terdiri dari kebudayaan sosial pribadi psikologis secara simultan terhadap keputusan pembelian makanan tradisional kabupaten Bangkalan Variabel psikologis berpengaruh dominan terhadap keputusan pembelian makanan tradisional kabupaten Bangkalan._xD_ Kata Kuci Perilaku Konsumen Kebudayaan Sosial Pribadi Psikologis Keputusan Pembelian._xD_ _xD_', 'Perkembangan kemajuan industri salah satunya kita lihat dengan adanya perkembangan dunia usaha yang semakin pesat Fenomena tersebut menyebabkan tiap perusahaan sejenis bersaing untuk mempertahankan pelanggan salah satunya melalui strategi bauran pemasaran Bauran pemasaran terdiri dari produk harga promosi distribusi Secara khusus penelitian membahas bauran pemasaran toko Fely Jaya Kacamatan Pamekasan Adapun yang menjadi masalah dalam penelitian adalah faktor-faktor yang mempengaruhi keputusan pembelian merek produk Kecamatan Pamekasan penelitian menggunakan variabel yaitu variabel terikat variabel tergantung Tujuan penelitian untuk mengetahui menganalisis pengaruh bauran pemasaran yang terdiri dari distribusi produk harga promosi terhadap keputusan pembelian konsumen._xD_ Penelitian dilakukan dengan menggunakan kuesioner terhadap orang pelanggan toko Fely Jaya Kecamatan Pamekasan Kemudian dilakukan analisis terhadap data-data yang diperoleh berupa analisis regresi Linier Berganda dengan memakai t._xD_ Hasil dari penelitian adalah berdasarkan hasil analisa data dapat disimpulkan bahwa Variabel bebas yang terdiri dari variabel Produk Harga Promosi Distribusi mempunyai pengaruh secara signifikan terhadap variabel terikat Keputusan konsumen Akan tetapi variabel distribusi berpengaruh terhadap keputusan pembelian pada merek elektronik Fely Jaya Kecamatan Pamekasan karena responden memberikan saran terhadap variabel distribusi untuk membuka usaha yang letaknya lebih strategis nyaman._xD_ _xD_', 'Produktifitas karyawan sangat dibutuhkan perusahaan untuk mewujudkan visi misi yang sesuai ditetapkan oleh perusahaan Produktivitas karyawan merupakan suatu yang perlu ditingkatkan oleh setiap anggota dari organisasi agar dapat terlaksananya tujuan dari organisasi secara optimal Terkait dengan produktivitas karyawan terdapat beberapa yang dapat mempengaruhi seperti kefektifan dalam berkomunikasi organisasi dimana saluran komunikasi seperti komunikasi kebawah komunikasi keatas komunikasi horizontal merupakan salah satu faktor yang dapat meningkatnya produktivitas kerja dari karyawan Tujuan dengan adanya penelitian kali adalah untuk mengetahui seberapa pengaruh komunikasi kebawah komunikasi atas komunikasi horizontal terhadap produktivitas kerja karyawan._xD_ Data yang digunakan dalam penelitian adalah data primer yang diperoleh dari penyebaran kuisoner Adapun respondennya adalah karyawan Starfood International paciran lamongan yang berjumlah orang teknik pengambilan sampel menggunakan clustered sampling analisis statistik yang digunakan adalah analisis regresi linear berganda._xD_ Hasil dari penelitian berdasarkan hasil analisi data yang dapat disimpulkan bahwa faktor yang terbukti berpengaruh secara signifikan terhadap produktivitas kerja karyawan adalah komunikasi kebawah komunikasi horizontal sedangkan komunikasi keatas terbukti tidak berpengaruh secaa signifikan terhadap produktivitas kerja karyawan Starfood International Paciran Lamongan._xD_ Keywords Komunikasi kebawah komunikasi keatas komunikasi horizontal produktivitas kerja karyawan _xD_', 'Tujuan dari penelitian adalah mengetahui pengaruh kemampuan pengaruh motivasi terhadap kinerja karyawan kontrak pada Sapta Pusaka Graha Nusantara SPGN Surabaya Popuasi penelitian adalah karyawan kontrak yang bekerja dilapangan yang sudah bekerja atas tahun yakni berjumlah karyawan Sedangkan metode penarikan sampel yang digunakan adalah metode teknik simple random sampling yaitu dari jumlah populasi sebesar karyawan yakni sebanyak responden Untuk mendapatkan data-data yang dibutuhkan maka metode pengumpulan data yang digunakan adalah observasi wawancara penyebaran kuisioner Sedangkan metode analisis yang digunakan adalah analisis regresi Linear Berganda pengujian hipotesis._xD_ Berdasarkan hasil analisis penelitian mengenai pengaruh kemampuan motivasi terhadap kinerja karyawan kontrak pada Sapta Pusaka Graha Nusantara SPGN Surabaya maka dapat disimpulkan bahwa terdapat pengaruh yang signifikan antara kemampuan dengan kinerja karyawan sedangkan motivasi sendiri tidak pengaruh yang signifikan terhadap kinerja karyawan tetapi kedua variabel tersebut sama-sama mempunyai arah yang positif terhadap kinerja _xD_ Kata kunci Kemampuan Motivasi Kinerja Karyawan _xD_', 'Muhammad Sholeh Pengaruh Iklan Televisi Terhadap Keputusan Konsumen Untuk Memakai Kartu Seluler Kecamatan Geger dibawah bimbingan Bambang Setiyo Pambudi Suyono M.S.M._xD_ Penelitian bertujuan untuk mengetahui pengaruh iklan terhadap keputusan konsumen untuk menggunakan kartu seluler yang dilakukan terhadap masyarakat kecamatan Geger Kabupaten Bangkalan dengan jumlah responden penelitian sebanyak Responden data yang terkumpul selanjutnya dilakukan analisis regresi linier berganda Dengan menggunakan alat bantu software SPSS . Hasil analisis terhadap pengujian hipotesis diperoleh sebagai berikut bahwa pengaruh iklan yang terdiri dari pesan struktur pesan format pesan sumber pesan mempunyai pengaruh yang signifikan terhadap keputusan konsumen untuk menggunakan kartu seluler pada parsial diketahui bahwa variabel pesan merupakan variabel yang dominan memberikan pengaruh terhadap keputusan konsumen untuk menggunakan kartu seluler Kecamatan Geger._xD_ Keywords Pesan Struktur Pesan Format Pesan Sumber Pesan._xD_', 'KUSNIYAH Analisis Volume Perdagangan Saham Return Saham Sebelum Sesudah Stock Split Pada Perusahaan Public Bursa Efek Indonesia Dibawah bimbingan Evaliati Amaniyah Prasetyo Nugroho Spi. MM._xD_ Kenaikan harga saham yang terlalu tinggi akan menyebabkan permintaan terhadap pembelian saham tersebut mengalami penurunan pada akhirnya dapat menyebabkan harga saham perusahaan tersebut menjadi statis fluktuatif lagi Untuk menghindari munculnya kondisi tersebut maka salah satu langkah yang diambil oleh perusahaan adalah melalui stock split yang diharapkan dapat meningkatkan likuiditas saham _xD_ Tujuan penelitian bertujuan untuk memperoleh bukti empiris mengenai apakah aktifitas stock split mempunyai perbedaan terhadap volume perdagangan saham untuk memperoleh bukti empiris mengenai apakah aktifitas stock split mempunyai perbedaan terhadap return saham Pendekatan penelitian yang digunakan dalam penelitian adalah pendekatan kuantitatif _xD_ Populasi penelitian adalah seluruh perusahaan Public Bursa Efek Indonesia yang melakukan aktifitas stock split dengan teknik pengambilan sampel menggunakan metode purposive Sampling dengan jumlah sampel perusahaan kemudian dianalisis menggunakan paired sample _xD_ Kesimpulan dari penelitian adalah terdapat perbedaan volume perdagangan saham sebelum sesudah stock split perusahaan sampel tidak terdapat perbedaan volume perdagangan saham sebelum sesudah stock split untuk perusahaan sampel terdapat perbedaan return saham sebelum sesudah stock split perusahaan sampel tidak terdapat perbedaan return saham sebelum sesudah stock split perusahaan sampel._xD_ _xD_ Kata kunci Stock Split Volume Perdagangan Saham Return Saham_xD_', 'Abstrak_xD_ Penelitian menggunakan metode kuantitatif yang menekankan pada pengujian hipotesis Variabel yang digunakan pada penelitian adalah kepemimpinan kompensasi Penelitian dilaksanakan Kantor Dinas Pendidikan Kabupaten Sampang sampel yang digunakan adalah sebanyak orang yang terdiri dari pegawai negeri sipil _xD_ Hipotesis pertama menjelaskan bahwa variabel bebas secara bersama–sama mempunyai hubungan yang signifikan secara simultan antara kepemimpinan kompensasi terhadap kinerja pegawai terbukti dengan nilai Fhitung pada tingkat sebesar , dengan nilai sebesar , _xD_ Hipotesis kedua menjelaskan bahwa variabel kompensasi sebagai variabel yang mempunyai pengaruh dominan terbukti dengan nilai hitung , berarti bahwa terdapat pengaruh positif signifikan secara parsial antara variabel bebas terhadap variabel terikat _xD_ Kesimpulan penelitian adalah pengujian hipotesis pertama menunjukkan bahwa berdasarkan pengujian statistik secara simultan variabel bebas memiliki pengaruh yang signifikan terhadap variabel terikat Pengujian hipotesis kedua membuktikan bahwa variabel kompensasi merupakan variabel yang berpengaruh dominan terhadap kinerja pada pegawai Dinas Pendidikan Kabupaten Sampang _xD_ Kata kunci Kepemimpinan Kompensasi Kinerja_xD_', 'ABSTRAK_xD_ _xD_ LUTFI KAMALI Pengaruh Strategi Bauran Pemasaran Terhadap Keputusan Pembelian Botol SOSRO Study Pada Mahasiswa Universitas Trunojoyo Madura Dibawah bimbingan Pribanus Wantara Nirma Kurriwati M.Si._xD_ Tujuan penelitian adalah untuk mengetahui apakah Strategi Bauran Pemasaran yang terdiri dari Produk Harga Promosi Distribusi berpengaruh baik secara simultan maupun secara parsial terhadap keputusan pembelian konsumen untuk mengetahui variabel manakah yang berpengaruh dominan terhadap keputusan mahasiswa dalam pembelian Botol SOSRO Universitas Trunojoyo Madura Hipotesis yang diajukan adalah Strategi Bauran Pemasaran yang terdiri dari produk harga promosi distribusi berpengaruh signifikan baik secara simultan maupun secara parsial terhadap keputusan pembelian Sedangkan variabel yang dominan adalah Promosi._xD_ Objek penelitian adalah pembelian Botol SOSRO Universitas Trunojoyo Madura dengan sampel sebanyak mahasiswa Teknik analisis data yang digunakan untuk meguji hipotesis adalah menggunakan regresi Linier Berganda dengan memakai Berdasar hasil penelitian model regresi Linier Berganda secara sistematis sebagai berikut _xD_ -, +, +,X+, X+, e_xD_ Hasil analisis penelitian menunjukkan secara simultan dengan menggunakan bauran pemasaran yang terdiri dari produk harga promosi distribusi secara bersama-sama maupun secara parsial mempunyai pengaruh signifikan terhadap keputusan pembelian mahasiswa terhadap botol SOSRO lingkungan Universitas Trunojoyo Madura Sehingga dapat disimpulkan bahwa untuk meningkatkan keputusan pembelian mahasiswa terhadap botol SOSRO lingkungan Universitas Trunojoyo Madura harus meningkatkan Strategi bauran pemasaran yang terdiri dari produk harga promosi distribusi dengan memprioritaskan promosi karena memiliki pengaruh yang dominan._xD_ _xD_ Kata kunci Produk Distribusi Harga Promosi Keputusan Pembelian_xD_', 'Tujuan penelitian adalah untuk mengetahui apakah variabel periklanan promosi penjualan publisitas mempunyai pengaruh terhadap keputusan pembelian konsumen untuk mengetahui variabel manakah yang berpengaruh dominan terhadap keputusan pembelian konsumen _xD_ Objek penelitian adalah Mini market Alfamart Kamal dengan sampel sebanyak konsumen yang berbelanja toko alfamart kamal Teknik analisis data yang digunakan untuk meguji hipotesis adalah menggunakan regresi Linier Berganda dengan memakai _xD_ Hasil analisis penelitian menyatakan bahwa secara simultan bauran promosi yang terdiri dari variabel periklanan promosi penjualan publisitas mempunyai pengaruh signifikan terhadap keputusan pembelian konsumen dalam berbelanja toko Alfamart Kamal Secara parsial variabel promosi penjualan publisitas berpengaruh secara signifikan terhadap keputusan pembelian konsumen variabel periklanan tidak berpengaruh secara signifikan terhadap keputusan pembelian konsumen dalam berbelanja toko Alfamart Kamal Sedangkan variabel promosi penjualan merupakan variabel dominan yang mempengaruhi keputusan pembelian Sehingga dapat disimpulkan bahwa untuk meningkatkan keputusan pembelian konsumen dalam berbelanja toko Alfamart maka mini market Alfamart Kamal harus meningkatkan bauaran promosi dari segi periklanan promosi penjualan publisitas._xD_', 'ABSTRAK_xD_ _xD_ Kinerja pegawai sangat dibutuhkan dalam menjalankan aktifitas suatu organisasi untuk mewujudkan visi misi yang sesuai dengan harapan Kinerja pegawai merupakan suatu yang perlu ditingkatkan oleh setiap anggota organisasi untuk terlaksananya tujuan organisasi secara optimal Terkait dengan peningkatan kinerja pegawai terdapat beberapa yang mempengaruhinya seperti Kepemilikan Saham menejerial Kepemilikan Saham Institusional._xD_ Tujuan penelitian adalah untuk mengetahui seberapa pengaruh Kepamilikan Saham menejerial Kepemilikan Saham Institusional terhadap peningkatan kinerja karyawan._xD_ Data yang digunakan dalam penelitian adalah data primer yang diperoleh dari penyebaran kuesioner Adapun respondennya adalah karyawan CV.YUDHISTIRA CV.WEST MAKMUR yang berjumlah orang teknik pengambilan sampel menggunakan Clustered Sampling Analisis statistik yang digunakan adalah regresi linier berganda._xD_ Hasil dari penelitian adalah Berdasarkan hasil analisis data dapat disimpulkan bahwa faktor yang telah terbukti berpengaruh secara signifikan terhadap peningkatan kinerja pegawai adalah Kepemilikan Saham Institusional sedangkan faktor Kepemilikan Saham Manajerial tidak terbukti berpengaruh secara signifikan terhadap peningkatan kinerja karyawan CV.YUDHISTIRA CV.WEST MAKMUR_xD_ _xD_ _xD_ word Kepemilikan Saham Manajerial Kepemilikan Saham Institusional peningkatan kinerja karyawan._xD_', 'Penelitian dilatar belakangi oleh ketatnya persaingan industri otomotif Indonesia dengan munculnya berbagai merek baru pasar khususnya segmen mobil Penelitian bertujuan untuk menguji pengaruh dari elemen-elemen ekuitas merek yang terdiri dari kesadaran merek persepsi kualitas asosiasi merek loyalitas merek terhadap keputusan pembelian konsumen pada mobil Suzuki Ertiga._xD_ Setelah dilakukan tinjauan pustaka penyusunan hipotesis data dikumpulkan melalui metode kuesioner terhadap orang pengguna mobil Suzuki Ertiga Surabaya yang diperoleh dengan menggunakan teknik purposive sampling Kemudian dilakukan analisis terhadap data yang diperoleh dengan data secara kuantitatif Analisis meliputi validitas reliabilitas asumsi klasik analisis regresi berganda pengujian hipotesis melalui F._xD_ Data-data yang telah memenuhi validitas reliabilitas asumsi klasik dianalisis menggunakan analisis regresi linear berganda sehingga menghasilkan persamaan regresi sebagai berikut _xD_ , ,X ,X ,X ,X_xD_ Dimana variabel keputusan pembelian konsumen kesadaran merek persepsi kualitas asosiasi merek loyalitas merek Melalui dapat diketahui hasil menunjukkan variabel kesadaran merek persepsi kualitas asosiasi merek loyalitas merek berpengaruh positif terhadap keputusan pembelian Angka Adjusted Square menunjukkan bahwa variasi keputusan pembelian konsumen dapat dijelaskan oleh keempat variabel independen dalam persamaan regresi Sedangkan sisanya dijelaskan oleh variabel lain diluar keempat variabel yang digunakan dalam penelitian Pengujian hipotesis menggunakan menunjukkan bahwa variabel indpenden kesadaran merek persepsi kualitas berpengaruh positif signifikan terhadap keputusan pembelian Sedangkan variabel independen lainnya asosiasi merek loyalitas merek tidak berpengaruh signifikan terhadap keputusan pembelian konsumen Jadi dari keempat variabel ekuitas merek kesadaran merek persepsi kualitas asosiasi merek loyalitas merek yang memiliki pengaruh dominan adalah variabel persepsi kualitas._xD_ Kata kunci keputusan pembelian konsumen kesadaran merek persepsi kualitas asosiasi merek loyalitas merek', 'Abtrak _xD_ USWATUN KHASANAH Pengaruh Etos Kerja Terhadap Presatasi Kerja Karyawan PT.PLN Persero Diatribusi Jawa Timur Area Mojokerto _xD_ Pengumpulan data dalam penelitian adalah mengunakan survey kuesioner Kuesioner dibagikan kepada sebagian karyawan Persero Distribusi Jawa Timur Area Mojokerto yang berjumlah karyawan Teknik analisis data yang digunakan untuk meguji hipotesis adalah menggunakan regresi Linier Berganda dengan memakai Hasil analisis penelitian menyatakan secara simultan dengan menggunakan etos kerja yang terdiri dari semanagt kerja disiplin kerja kerja sama secara bersama-sama mempunyai pengaruh signifikan terhadap prestasi kerja karyawan Persero Distribusi Jawa Timur Area Mojokerto._xD_ Secara parsial dengan menggunakan menunjukkan bahwa variabel kerja sama semangat kerja berpengaruh signifikan sedangkan variabel disiplin kerja tidak berpengaruh signifikan terhadap prestasi kerja karyawan Persero Distribusi Jawa Timur Area Mojokerto Sedangkan variabel etos kerja merupakan variabel dominan yang mempengaruhi prestasi kerja karyawan Sehingga dapat disimpulkan bahwa untuk meningkatkan prestasi kerja karyawan Persero Distribusi Jawa Timur Area Mojokerto harus meningkatkan etos kerja dari kerja sama semangat kerja _xD_ Kata kunci Etos Kerja Prestasi kerja._xD_', 'Imam Humaini  Pengaruh modal kerja terhadap profitabilitas perusahaan otomotif yang terdaftar bursa efek indonesia periode tahun - dibawah bimbingan Gatot Heru Pranjoto Purnamawati Msi_xD_ Penelitian dilakukan untuk menguji pengaruh variabel perputaran perputaran persediaan perputaran piutang terhadap Profitabilitas pada perusahaan otomotif yang terdaftar Bursa Efek Indonesia periode - Teknik pengambilan sampel yang digunakan adalah purposive sampling dengan kriteria perusahaan otomotif yang menerbitkan mempublikasikan laporan keuangan tahunan - perusahaan tersebut tidak mengalami delisting selama periode pengamatan serta perusahaan tersebut terdaftar Bursa Efek Indonesia sebelum periode pengamatan Data diperoleh berdasarkan publikasi indonesian Capital Market Directori ICMD jumlah sampel yang memenuhi kriteria sebanyak perusahaan dari perusahaan otomotif yang terdaftar _xD_ Teknik analisis yang digunakan dalam penelitian adalah regresi linier berganda hipotesis menggunakan t–statistik untuk menguji pengaruh antara variabel dengan variabel secara parsial serta f-statistik untuk menguji pengaruh variabel bebas terhadap variabel terikat secara bersama-sama dengan level significance Berdasarkan hasil dari perputaran perputaran persediaan perputaran piutang tidak berpengaruh signifikan terhadap Hasil pengaruh secara simultan dengan menunjukkan bahwa secara bersama-sama variabel independen berpengaruh signifikan tehadap Nilai adjusted square sebesar , yang menunjukkan bahwa dapat dijelaskan oleh variabel independen perputaran perputaran persediaan perputaran piutang sedangkan sisanya sebesar dijelaskan oleh variabel lain._xD_ _xD_ Kata Kunci Profitabilitas perputaran perputaran persediaan perputaran piutang._xD_', 'Tujuan penelitian adalah untuk mengetahui pengaruh kerja malam terhadap kinerja karyawan Bagian Debt Collector Pada Perusahaan Kredit Elektronik Surabaya pengaruh psikis terhadap kinerja karyawan Bagian Collector Pada Perusahaan Kredit Elektronik Surabaya pengaruh dominan terhadap kinerja karyawan Bagian Collector Pada Perusahaan Kredit Elektronik Surabaya._xD_ Penelitian menggunakan pendekatan kuantitatif yang berusaha untuk mengetahui bagaimana pengaruh beban kerja kerja terhadap kinerja karyawan Bagian Debt Collector Pada Perusahaan Kredit Elektronik Surabaya.Jumlah sampel sebanyak responden Teknik pengumpulan data yaitu dengan wawancara kuesioner menggunakan skala likert untuk mengukur jawaban responden Untuk menguji instrumen menggunakan validitas reliabilitas asumsi klasik Sedangkan teknik analisis data yaitu menggunakan analisis regresi linier berganda karena variabel yang digunakan lebih dari variabel dengan t._xD_ Berdasarkan penelitian regresi linear berganda menunjukkan bahwa kerja malam berpengaruh terhadap kinerja karyawan kinerja karyawan Bagian Debt Collector Pada Perusahaan Kredit Elektronik Surabaya selanjutnya psikis berpengaruh terhadap kinerja karyawan Bagian Debt Collector Pada Perusahaan Kredit Elektronik Surabaya Variabel psikis berpengaruh dominan terhadap kinerja karyawan Bagian Debt Collector Pada Perusahaan Kredit Elektronik Surabaya._xD_', 'ABSTRAK_xD_ Satiyah Pengaruh Faktor-faktor Pelatihan Pengembangan Terhadap Produktivitas Kerja Dinas Kelautan Perikanan Bangkalan Dibawah bimbingan Dra.Hj.S.Anugrahini Irawati Helmi Buyung Aulia ST.SE M.MT_xD_ Dalam upaya meningkatkan produktivitas kerja tidaklah mudah oleh karena salah satu usaha agar produktivitas meningkat adalah menerapkan program pelatihan pengembangan sumber daya manusia perlu dilaksanakan dalam instansi agar produktivitas yang tinggi dapat tercapai dengan meningkat kemampuan pegawai agar dapat bekerja secara efektif efisien Dengan adanya pelatihan pengembnagan diharapkan pegawai juga mampu menyesuaikan diri dengan kebutuhan-kebutuhan baru atas sikap tingkah laku keterampilan pengetahuan sesuai dengan tuntutan perubahan Dengan adanya pelatihan pengembangan pegawai yang baik dapat mendukung terciptanya suasana kerja yang kondusif dalam instansi sehingga dengan sendirinya produktivitasi kerja akan meningkat._xD_ Tujuan penelitian adalah untuk mengetahui seberapa besar Pengaruh Faktor-faktor Pelatihan Pengembangan Terhadap Produktivitas Kerja Dinas Kelautan Perikanan Bangkalan Untuk mengukur menganalisa hubungan antara kedua variabel atas peneliti menggunakan pendekatan observasional analitik yaitu melakukan pengamatan secara langsung kepada responden dengan penyebaran kuisioner untuk dianalisis Penelitian merupakan penelitian populasi dengan responden sebagai sampel serta diolah dengan SPSS Versi . dianalisis dengan menggunakan metode statistik yaitu metode probality sampling secara simple random sampling._xD_ Kesimpulan penelitian adalah Faktor-faktor pelatihan pengembangan yang terdiri dari perbedaan individu pegawai hubungan dengan analisis jabatan motivasi partisipasi aktif seleksi peserta seleksi instruktur metode pelatihan pengembangan mempunyai pengaruh simultan terhadap produktivitas kerja pegawai Dinas Kelautan Perikanan Kabupaten Bangkalan Terbukti dengan nilai koefisien determinasi berganda atau square , Fhitung , lebih besar dari Ftabel , Faktor hubungan dengan analisis jabatan tidak berpengaruh secara parsial terhadap produktivitas kerja pegawai Dinas Kelautan Perikanan Kabupaten Bangkalan Pengujian Hipotesis kedua menunjukkan bahwa variabel motivasi tidak terbukti karena dilihat dari nilai thitung Sebesar , menunjukkan bahwa seleksi peserta yang mempunyai pengaruh dominan terhadap produktivitas kerja pegawai pada instansi Dinas Kelautan Perikanan Bangkalan _xD_ _xD_ Kata kunci Dinas Kelautan Perikanan Faktor-faktor Pelatihan Pengembangan Produktivitas Kerja._xD_', 'ABSTRAK_xD_ _xD_ _xD_ Hendra Irawan Pengaruh Kepercayaan Komitmen Terhadap Kualitas Hubungan Patner Usaha Pada Adira Dinamika Multi Finance Pamekasan Dibawah Bimbingan Anugrahini Mudji Kuswinanrno Si._xD_ Tujuan penlitian adalah untuk mengetahui pengaruh kepercayaan komitmen terhadap kualitas hubungan Patner usaha yang dilaksanakan pada Adira Dinamika Multi Finance Baik secara simultan maupun secara parsial Mengetahui manakah yang paling berpengaruh antara kepercayaan komitmen terhadap kualitas hubungan pada Adira Dinamika Multi Finance._xD_ Penelitian dilakukan secara kuantitatif Dengan menggunakan metode survai Tehnik penarikan sampel menggunakan Quota sampling dianalisis dengan analisis jalur Path Analysis ._xD_ Hipotesis Penelitian adalah Kepercayaan komitmen berpengaruh signifikan terhadap kualitas hubungan patner usaha pada Adira dinamika multi finance komitmen paling berpengaruh terhadap kualitas hubungan patner usaha pada Dinamika multi finance._xD_ Kesimpulan penelitian studi adalah Variabel kepercayaan komitmen secara simultan mempunyai pengaruh positif terhadap kualitas hubungan patner usahanya Variabel yang paling berpengaruh terhadap kualitas hubungan patner usaha pada Adira dinamika multi finance Pamekasan adalah variabel kepercayaan._xD_ _xD_ Kata kunci Komitmen Kepercayaan._xD_', 'Penelitian dilatarbelakangi oleh semakin tingginya seseorang untuk bertransaksi melalui internet Indonesia khususnya Pihak pengusaha/ yang melakukan penjualan melalui internet harus mempunyai strategi-strategi agar dapat memenangkan persaingan serta memberikan kepercayaan kemudahan dalam bertransaksi memberikan kualitas yang diinginkan konsumen Dari tersebut peran kepercayaan kemudahan kualitas informasi sangat penting Unsur-unsur kepercayaan kemudahan kualitas informasi saling terkait sehingga pihak pengelola dapat mencapai tujuannya dapat meningkatkan/memuaskan kebutuhan keinginan konsumen _xD_ Tujuan penelitian adalah Untuk mengetahui pengaruh kepercayaan kemudahan kualitas informasi terhadap keputusan pembelian online Untuk mengetahui variabel yang dominan dalam mempengaruhi keputusan pembelian online._xD_ Penelitian menggunakan pendekatan kuantitatif yang berusaha untuk mengetahui bagaimana pengaruh kepercayaan kemudahan kualitas informasi terhadap pengambilan keputusan pembelian online situs www.rumahmadani.com Teknik pengambilan sampel menggunakan probability sampling yaitu penentuan sample yang secara tidak acak tetapi dengan tujuan khusus purposive sampling dengan responden Teknik pengumpulan data yaitu dengan wawancara/ chatting kepustakaan kuesioner menggunakan skala likert untuk mengukur jawaban responden Untuk menguji instrumen menggunakan validitas reliabilitas asumsi klasik Sedangkan teknik analisis data yaitu menggunakan analisis regresi linier berganda karena variabel yang digunakan lebih dari variabel dengan t._xD_ Kata Kunci keputusan pembelian kepercayaan kemudahan kualitas informasi._xD_', 'ABSTRAK_xD_ Penelitian menggunakan metode kuantitatif yang menekan pada pengujian hipotesis Variabel yang gnakan pada penelitian adalah kepemipinan kharismatik kepemimpinan transaksional kepemimpinan tranforsional Penelitian laksanakan universitas trunojoyo Madura sampel yang digunakan adalah sebanyak orang yang teridiri dari kelompok satpam PT.Marina Harta._xD_ Hipotesis pertama menjelaskan bahwa variable bebas secara bersama-sama mempunyai hubungan yang signifikan terhadap perilaku kelompok satpam terbukti dengan nilai hitung lebih besar dari table pada tingkat , , dengan nila sebesar , ._xD_ Hipotesis kedua menjelaskan bahwa varibel kepemimpinan kharismatik sebagai variable yang mempunyai pengaruh dominan terbukti dengan nilai hitung lebih besar dari table dengan tingkat signifikan sebesar , , ._xD_ Kesimpulan penelitian adalah pengujian hipotesis pertama menunjukkan bahwa berdasarkan pengujian statistic secara stimulant variable bebas yang terdiri dari kepemimpinan kharismatik kepemimpinan transaksional kepemimpinan transformasional memiliki pengaruh yang signifikan terhadap varibel terikat yaitu perilaku satpam Marina harta Unit Pengujian hipotesis kedua membuktikan bahwa varibel kepemimpinan karismatik merupakan varibel yang berpengaruh dominan terhadap perilaku kelompok satpam Marina Harta unit UTM._xD_ _xD_ Kata Kunci Gaya kepemimpinan perilaku kelompok_xD_', 'Penelitian dilatarbelakangi oleh seringnya dilakukan rotasi jabatan yang terjadi jajaran pejabat Pemerintah Kabupaten Sumenep dilaksanakan mulai dari level pejabat yang bekerja pada dinas atau instansi SKPD yang berada dalam wilayah otonomi daerah Kabupaten Sumenep Termasuk Kantor Kelurahan yang merupakan level pemerintahan paling rendah yang mempunyai tugas pokok fungsi melayani masyarakat yang berada wilayahnya dengan bisnis industri.Adapun yang menjadi rumusan masalah dalam penelitian adalah Bagaimana pengaruh rotasi jabatan terhadap kepuasan kerja pada pegawai Kelurahan Kelurahan Kecamatan Kota Kabupaten Sumenep Variabel manakah dari rotasi jabatan yang paling berpengaruh terhadap kepuasan kerja pada pegawai Kelurahan Kelurahan Kecamatan Kota Kabupaten Sumenep .Penelitian bertujuan Untuk mengetahui tidaknya pengaruh rotasi jabatan terhadap kepuasan kerja pegawai Kantor Kelurahan Kecamatan Kota Kabupaten Sumenep Untuk mengetahui seberapa besar pengaruh rotasi jabatan terhadap kepuasan kerja pegawai Kantor Kelurahan Kecamatan Kota Kabupaten Sumenep._xD_ Dalam penelitian data dikumpulkan melalui metode kuisioner terhadap orang pegawai yang berada empat Kelurahan Kecamatan Kota Sumenep dengan menggunakan metode purposive sampling Bersumber data primer data sekunder dengan teknik pengumpulan data berupa kuisioner wawancara studi dokumentasi Variabel bebas yang digunakan adalah Standar Kriteria Kebutuhan Formasi Pegawai Tujuan Objektifitas Sedangkan Variabel adalah Kepuasan Kerja .untuk mengetahui tanggapan responden terhadap masing-masing variabeldilakukan analisis terhadap data-data yang diperoleh berupa analisis kuantitatif analisiskualitatif Analisis kuantitatif meliputi validitas reliabilitas asumsiklasik hipotesis lewat Teknik analisis data yang digunakan adalah analisis regersi linear berganda yang berfungsi untuk membuktikan hipotesis penelitian _xD_ Hasil analisis dalam penelitian diketahui bahwasecara stimultan variabel Standar Kriteria kebutuhan Formasi pegawai Tujuan Obyektifitas berpengaruh positif terhadap kepuasan kerja dengan tingkat signifikan sebesar , diperkuat dengan hasil distribusi frekuensi variabel kepuasan pegawai bahwa sebagian besar responden setuju bahwa rotasi jabatan berpengaruh terhadap kepuasan kerja pegawai dengan rata rata frekuensi jawaban sebesar , .Secara parsial terdapat variabel yang berpengaruh dari kelima variabel Variabel Standar Kriteria kebutuhan Formasi pegawai Tujuan Obyektifitas terhadap kepuasan kerja pegawai Yaitu variabel standar kriteria variabel kebutuhan Variabel dari rotasi jabatan yang paling dominan berpengaruh terhadap kepuasan kerja pegawai negeri sipil Kantor Kelurahan Kecamatan Kota Kabupaten Sumenep adalah Variabel Standar Kriteria dengan nilai sebesar sebesar .._xD_ _xD_ Kata Kunci Rotasi Jabaran Standar Kriteria Kebutuhan Formasi Pegawai Tujuan Obyektifitas Kepuasan Kerja Pegawai._xD_', 'Syaiful Anwar Pengaruh keselamatan kesehatan kerja terhadap produktivitas kerja studi kasus pada Bagian Produksi Marianal Indo Prima Cabang Pamekasan Dibawah bimbingan Mudji Kuswinarmo M.Si Muhammad Akirom Wildan M.Si._xD_ Latar belakang penelitian adalah Persaingan bidang industri menuntut perusahaan harus mampu bertahan berkompetisi Salah satu yang dapat ditempuh perusahaan agar mampu bertahan dalam persaingan yang ketat yaitu dengan meningkatnya produktivitas kerja Produktivitas kerja dipengaruhi oleh keselamatan kesehatan kerja._xD_ Penelitian bertujuan untuk meneliti apakah keselamatan kesehatan kerja berpengaruh signifikan terhadap produksi kerja karyawan marinal indo prima cabang pamekasan Untuk membuktikan hipotesis penelitian dari penelitian alat analisis yang digunakan adalah regresi linear berganda dengan bantuan SPSS Hasil analisis regresi linear berganda peroleh persamaan sebagai berikut _xD_ ,+,X+,X+e_xD_ Dari hasil pengujian variabel diatas menunjukkan bahwasanya variabel keselamatan kesehatan kerja sama-sama berpengaruh signifikan terhadap produktivitas kerja karyawan Marinal Indo Prima_xD_ _xD_ _xD_ Kata kunci keselamatan kesehatan produktivitas kerja._xD_', 'Tujuan penelitian adalah untuk mengetahui apakah variabel yang terdiri dari kepribadian merk nilai merk hubungan merk-konsumen citra pengguna secara simultan memiliki pengaruh yang signifikan terhadap kepuasan konsumen serta untuk mengetahui variabel manakah dari kepribadian merk nilai merk hubungan merk-konsumen citra pengguna yang berpengaruh dominan terhadap kepuasan konsumen untuk membuktikan hipotesis penelitian alat analisis yang digunakan adalah regresi linier berganda dengan bantuan SPSS _xD_ Hasil pengujian menunjukkan nilai Fhitung sebesar , dengan nilai signifikan Fhitung sebesar . . yang berarti pengaruh signifikan variabel kepribadian merk nilai merk hubungan merk-konsumen citra penggunasecara simultan terhadap kepuasan konsumen sepeda motor supra ._xD_', 'ABSTRAK_xD_ Dharma Abidin Syah Kesimpulan Terdapat pengaruh signifikan antara variabel tipe kepemimpinan Autoritarian Laissez-Faire Demokratis secara simultan terhadap variabel Prestasi Kerja pegawai kantor Kecamatan Pangarengan Kabupaten Sampang Hasil anova menunjukan bahwa nilai Fhitung , Ftabel , Variabel tipe kepemimpinan Autoritarian Laissez-Faire Demokratis secara simultan memberikan kontribusi sebesar , terhadap Prestasi Kerja pegawai Tidak terdapat pengaruh signifikan antara variabel kepemimpinan Tipe Autoritariansecara parsial terhadap Prestasi Kerja pegawaidikantor Kecamatan Pangarengan Kabupaten Sampang Hasil menunjukan bahwa nilai hitung , tabel , Secara parsial variabel kepemimpinan Tipe Autoritarian memberikan kontribusi sebesar , terhadap variabel Prestasi Kerja pegawai Tidak terdapat pengaruh signifikan antara variabel kepemimpinan Tipe Laissez-Fairesecara parsial terhadap Prestasi Kerja pegawaidikantor Kecamatan Pangarengan Kabupaten Sampang._xD_ Hasil menunjukan bahwa nilai hitung , tabel , Secara parsial variabel kepemimpinan Tipe Laissez-Faire memberikan kontribusi sebesar , terhadap variabel Prestasi Kerja pegawai Terdapat pengaruh signifikan antara variabel kepemimpinan Tipe Demokratis secara parsial terhadap Prestasi Kerja pegawaidikantor Kecamatan Pangarengan Kabupaten Sampang Hasil menunjukan bahwa nilai hitung , tabel , Secara parsial variabel kepemimpinan Tipe Demokratis memberikan kontribusi sebesar , terhadap variabel Prestasi Kerja pegawai Variabel Tipe Demokratis mempunyai nilai koefisien determinasi lebih besar daripada variabel bebas lainya merupakan variabel dominan berpengaruh terhadap variabel Prestasi Kerja pegawai dikantor Kecamatan Pangarengan Kabupaten Sampang_xD_ Kata Kunci Tipe Kepemimpinan Prestasi Kerja Pegawai _xD_', 'Pendekatan penelitian yang digunakan dalam penelitian adalah pendekatan kuantitatif Populasi penelitian adalah perusahaan liquid yang terdaftar Bursa Efek Indonesia dengan teknik penarikan sampel menggunakan metode Purpossive Sampling kemudian dianalisis menggunakan regresi linier berganda dengan menggunakan bantuan alat analisis Statistical Program Service Solution SPSS versi ._xD_ _xD_ Hipotesis penelitian adalah duga terdapat pengaruh secara parsial maupun simultan antara variabel Rasio Likuiditas Current Ratio Struktur Modal Debt Equity Ratio dengan Profitabilitas pada perusahaan liquid yang terdaftar Bursa Efek Indonesia._xD_ _xD_ Hasil dari penelitian menunjukkan bahwa variabel current ratio secara parsial tidak memiliki pengaruh yang tidak signifikan dengan Profitabilitas sedangkan pada variabel debt equity ratio secara parsial tidak memiliki pengaruh yang tidak signifikan dengan Profitabilitas Berdasarkan hasil simultan didapatkan hasil bahwa Current Ratio Debt Equity Ratio tidak memiliki pengaruh yang tidak signifikan terhadap Profitabilitas pada perusahaan-perusahaan ._xD_ _xD_ Kata kunci Likuiditas Current Ratio Struktur Modal Debt Equity Ratio Profitabilitas _xD_', 'ABSTRAK_xD_ Haryono Arifin Pengaruh Perilaku Konsumen Terhadap Keputusan Pembelian Produk Honda Merek Vario _xD_ Studi Pada Dealler Surya Agung Motor Bangkalan ._xD_ _xD_ Tujuan penelitian adalah untuk mengetahui seberapa besar pengaruh perilaku konsumen terhadap keputusan pembelian Honda Merek Vario Dealer Surya Agung Motor Bangkalan Untuk mengetahui variabel manakah diantara perilaku konsumen yang terdiri dari kebudayaan sosial pribadi psikologis yang dominan dalam keputusan pembelian konsumen terhadap Honda Merek Vario Penelitian menggunakan pendekatan kuantitatif yaitu melakukan pengamatan secara langsung kepada responden dengan penyebaran kuesioner untuk dianalisa penelitian merupakan penelitian yang menggunakan populasi sebanyak responden konsumen yang melakukan pembelian Honda Merek Vario Dealer Surya Agung Motor Bangkalan yang dijadikan responden serta dianalisis dengan SPSS Versi ._xD_ Kesimpulan penelitian adalah Pengujian hipotesis pertama menunjukkan bahwa variabel perilaku konsumen kebudayaan sosial pribadi psikologis berpengaruh secara simultan terhadap keputusan pembelian Honda merek Vario Pengujian hipotesis kedua menunjukkan bahwa variabel psikologis adalah variabel yang berpengaruh dominan._xD_ Kata kunci Kebudayaan Sosial Pribadi Psikologis Keputusan Pembelian._xD_', 'Objek penelitian adalah pembelian produk Kecamatan Bangkalan dengan sampel sebanyak konsumen Teknik analisis data yang digunakan untuk meguji hipotesis adalah menggunakan regresi Linier Berganda dengan memakai Berdasar hasil penelitian model regresi Linier Berganda secara sistematis._xD_ Hasil analisis penelitian menunjukkan secara simultan dengan menggunakan bauran pemasaran yang terdiri dari produk harga promosi distribusi secara bersama-sama mempunyai pengaruh signifikan terhadap keputusan pembelian Pada produk Kecamatan Bangkalan.Secara parsial dengan menggunakan menunjukkan bahwa variabel promosi distribusi berpengaruh signifikan sedangkan variabel produk harga tidak berpengaruh signifikan terhadap keputusan pembelian Pada produk Kecamatan Bangkalan Variabel distribusi berpengaruh terhadap keputusan pembelian Sehingga dapat disimpulkan bahwa untuk meningkatkan keputusan pembelian produk Kecamatan Bangkalan harus meningkatkan Strategi Bauran Pemasaran dari segi promosi distribusi._xD_', 'ABSTRAK Firda Kamalia Analisis Kinerja Sumber Daya Manusia Menggunakan Metode Human Resources Scorecard Universitas Trunojoyo Madura bawah bimbingan Iriani Ismail Dra. Mudji Kuswinarno M.Si Penelitian bertujuan untuk menganalisis kinerja Universitas Trunojoyo Madura dengan menggunakan metode Human Resources Scorecard HRSC dalam perspektif yaitu perspektif keuangan perspektif pelanggan perspektif prose bisnis internal perspektif prose pembelajaran pertumbuhan Penelitian menggunakan data primer data sekunder Pengumpulan data dilakukan melalui wawancara Data dianalisis dengan pendekatan kualitatif analisis hasil wawancara berdasarkan indikator ketersediaan data akurasi objektifitas kredibilitas generalibiitas relevansi praktikal Dari hasil wawancara terhadap staf kepala bagian kepegawaian beserta kepala BAUK jika dikaitkan dengan perspektif Human Resources Scorecard maka didapat bahwa kinerja sumber daya manusia bagian kepegawaian pada tahun  sebesar , baik mengalami peningkatan yang signifikan pada tahun  sebesar , sangat baik menunjukkan bahwa manajemen secara umum sudah optimal Kendati sudah cukup optimal namun masih perlu diperbaiki tersebut diakibatkan karena lemahnya sistem pengukuran kinerja yang objektif masih berpatokan kepada Sasaran Kerja Pegawai masih terdapat tenaga yang memenuhi standar kompetensi dalam membuat indicator kinerja pemindahan/ pemutaran karyawan Kata Kunci Kinerja Pengukuran Kinerja HRSc', 'Rahbini Pengaruh Harga Kualitas Pelayanan Terhadap Kepuasan Berbelanja pada Swalayan Jerry Bangkalan dibawah bimbingan Pribanus Wantara Nirma Kurriwati ._xD_ Penelitian bertujuan untuk mengukur pengaruh Harga Kualitas Pelayanan Terhadap Kepuasan Berbelanja Swalayan Jerry yang dilakukan terhadap konsumen yang berbelanja swalayan Jerry dengan jumlah responden penelitian sebanyak responden data yang terkumpul selanjutnya dilakukan analisis Regresi Linier Berganda Dengan menggunakan alat bantu software SPSS .. hasil analisis terhadap pengujian hipotesis diperoleh sebagai berikut bahwa harga kualitas pelayanan mempunyai pengaruh secara simultan terhadap kepuasan berbelanja swalayan Jerry Secara Parsial variabel harga kehandalan daya tanggap jaminan empati bukti fisik mempunyai pengaruh parsial terhadap kepuasan berbelanja swalayan Jerry Bangkalan serta variabel harga merupakan variabel yang dominan berpengaruh terhadap kepuasan berbelanja swalayan Jerry Bangkalan _xD_ _xD_ Kata Kunci Harga Keandalan Daya Tanggap Jaminan Empati Bukti Fisik_xD_', '_xD_ Gilang Reza Khasogi pengaruh pemberian kompensasi motivasi terhadap kinerja karyawan pada Cerelia Bangkalan Dibawah bimbingan Alkirom Wildan S.E. M.Si Drs.Ec Mudji Kuswinarno.M.Si ._xD_ Dunia bisnis sekarang dituntut menciptakan kinerja karyawan yang tinggi untuk pengembangan perusahaan Perusahaan harus mampu membangun meningkatkan kinerja dalam lingkungannya Cerelia yang terletak Bangkalan merupakan perusahaan yang bergerak dibidang penyedia alat tulis aksesoris menyadari pentingnya untuk meningkatkan motivasi sehingga menghasilkan kinerja karyawan yang optimal mencapai tujuan perusahaan yaitu meningkatkan laba _xD_ _xD_ Tujuan penelitian adalah untuk mengetahui apakah variabel yang terdiri dari kompensasi finansial kompensasi finansial motivasi secara simultan memiliki pengaruh yang signifikan terhadap kinerja karyawan serta untuk mengetahui variabel manakah dari kompensasi finansial kompensasi finansial motivasi yang berpengaruh dominan terhadap kinerja karyawan untuk membuktikan hipotesis penelitian alat analisis yang digunakan adalah regresi linier berganda dengan bantuan SPSS _xD_ _xD_ Hasil pengujian menunjukkan nilai Fhitung sebesar , dengan nilai signifikan Fhitung sebesar . . yang berarti pengaruh signifikan variabel kompensasi finansial langsung kompensasi finansial tidak langsung kompensasi nonfinansial secara simultan terhadap kinerja karyawan pada Cerelia aksesoris stationary Bangkalan._xD_ Koefisien determinasi berganda atau square sebesar . berarti secara bersama-sama , perubahan variabel kinerja karyawan pada CV.Cerelia aksesoris stationary Bangkalan disebabkan oleh variabel kompensasi finansial kompensasi finansial motivasi Sedangkan sisanya , disebabkan oleh variabel lain yang tidak masuk dalam model Dari hasil penelitian variabel kompensasi finansial terbukti kebenarannya yang berpengaruh dominan dengan nilai beta sebesar ,._xD_ _xD_ Kata kunci kompensasi motivasi kinerja karyawan _xD_ _xD_', 'Abstrak_xD_ _xD_ Aththaariq Pengaruh Kompetensi Dosen Terhadap Kinerja Dosen Universitas Trunojoyo Madura Dibawah bimbingan Dr.RM Moch Wispandono .S.E Muhammad Alkirom Wildan S.E. M.Si._xD_ Penelitian bertujuan untuk menganalisis pengaruh kompetensi pedagogik kompetensi profesional kompetensi sosial kompetensi kepribadian terhadap variabel terikat kinerja dosen Universitas Trunojoyo Madura._xD_ Data yang digunakan dalam penelitian adalah data primer data tersebut diperoleh dari hasil penyebaran kuesioner sedangkan yang menjadi responden dalam penelitian adalah dosen Universitas Trunojoyo Madura yang sudah tersertifikasi aktif mulai dari tahun - berjumlah dosen teknik pengambilan sampel menggunakan judgmental sampling dengan menggunakan metode analisis regresi linier berganda._xD_ Dari hasil penelitian yang telah dilakukan berdasarkan hasil analisis dapat disimpulkan bahwa kompetensi pedagogik kompetensi profesional kompetensi sosial kompetensi kepribadian berpengaruh secara signifikan terhadap variabel terikat kinerja dosen baik secara simultan maupun parsial Pada nilai koefisiensi determinasi berganda menunjukkan nilai sebesar . yang artinya . kinerja dosen dipengaruhi oleh perubahan semua variabel bebas yang telah diteliti sisanya . dipengaruhi oleh variabel yang tidak diteliti Sedangkan variabel yang memiliki pengaruh dominan adalah variabel kompetensi pedagogik dengan nilai signifikansi sebesar . memiliki nilai beta sebesar . _xD_ _xD_ Kata kunci Kompetensi pedagogik kompetensi profesional kompetensi sosial kompetensi kepribadian kinerja dosen._xD_ _xD_']\n"
     ]
    }
   ],
   "source": [
    "dokumen2=[]\n",
    "for i in dokumenre:\n",
    "    hasil =  i.replace('\\n','') \n",
    "    dokumen2.append(hasil) \n",
    "print(dokumen2)"
   ]
  },
  {
   "cell_type": "markdown",
   "metadata": {},
   "source": [
    "beberapa kode diatas digunakan dalam keadaan berurutan, yang berfungsi untuk menghilangkan angka pada setiap kata yang ada. langkah ini menggunakan library re untuk melaksanakannya"
   ]
  },
  {
   "cell_type": "markdown",
   "metadata": {},
   "source": [
    "# Menghilangkan kata hubung\n"
   ]
  },
  {
   "cell_type": "code",
   "execution_count": 66,
   "metadata": {},
   "outputs": [],
   "source": [
    "from Sastrawi.StopWordRemover.StopWordRemoverFactory import StopWordRemoverFactory\n",
    "from nltk.tokenize import word_tokenize\n",
    "factory = StopWordRemoverFactory()\n",
    "stopword  = factory.create_stop_word_remover()"
   ]
  },
  {
   "cell_type": "code",
   "execution_count": 70,
   "metadata": {},
   "outputs": [
    {
     "name": "stdout",
     "output_type": "stream",
     "text": [
      "['Abstrak', 'Hardik Pratama  Pengaruh Perilaku Konsumen Terhadap Keputusan Pembelian Makanan Tradisional Kabupaten Bangkalan bawah bimbingan Pribanus Wantara Drs. Syarif Drs.Ec. Si._xD_ Tujuan penelitian mengetahui pengaruh perilaku konsumen terdiri kebudayaan sosial pribadi psikologis simultan keputusan pembelian makanan tradisional kabupaten Bangkalan mengetahui variabel perilaku konsumen berpengaruh dominan keputusan pembelian makanan tradisional kabupaten Bangkalan._xD_ Penelitian menggunakan pendekatan pendekatan kuantitatif berusaha mengetahui bagaimana pengaruh perilaku konsumen keputsan pembelian makanan tradisional kabupaten Bangkalan Teknik pengambilan sampel menggunakan purposive sampling responden Teknik pengumpulan data wawancara kuesioner menggunakan skala likert untuk mengukur jawaban responden Untuk menguji instrumen menggunakan validitas reliabilitas asumsi klasik Sedangkan teknik analisis data menggunakan analisis regresi linier berganda variabel digunakan lebih variabel dengan t._xD_ Hasil penelitian menunjukkan variabel perilaku konsumen terdiri kebudayaan sosial pribadi psikologis simultan keputusan pembelian makanan tradisional kabupaten Bangkalan Variabel psikologis berpengaruh dominan keputusan pembelian makanan tradisional kabupaten Bangkalan._xD_ Kata Kuci Perilaku Konsumen Kebudayaan Sosial Pribadi Psikologis Keputusan Pembelian._xD_ _xD_', 'Perkembangan kemajuan industri salah satunya lihat adanya perkembangan dunia usaha semakin pesat Fenomena tersebut menyebabkan tiap perusahaan sejenis bersaing mempertahankan pelanggan salah satunya melalui strategi bauran pemasaran Bauran pemasaran terdiri produk harga promosi distribusi Secara khusus penelitian membahas bauran pemasaran toko Fely Jaya Kacamatan Pamekasan Adapun menjadi masalah penelitian faktor-faktor mempengaruhi keputusan pembelian merek produk Kecamatan Pamekasan penelitian menggunakan variabel variabel terikat variabel tergantung Tujuan penelitian mengetahui menganalisis pengaruh bauran pemasaran terdiri distribusi produk harga promosi keputusan pembelian konsumen._xD_ Penelitian dilakukan menggunakan kuesioner orang pelanggan toko Fely Jaya Kecamatan Pamekasan Kemudian dilakukan analisis data-data diperoleh berupa analisis regresi Linier Berganda memakai t._xD_ Hasil penelitian berdasarkan hasil analisa data disimpulkan Variabel bebas terdiri variabel Produk Harga Promosi Distribusi mempunyai pengaruh signifikan variabel terikat Keputusan konsumen Akan variabel distribusi berpengaruh keputusan pembelian merek elektronik Fely Jaya Kecamatan Pamekasan responden memberikan saran variabel distribusi membuka usaha letaknya lebih strategis nyaman._xD_ _xD_', 'Produktifitas karyawan sangat dibutuhkan perusahaan mewujudkan visi misi sesuai ditetapkan perusahaan Produktivitas karyawan merupakan suatu perlu ditingkatkan setiap anggota organisasi dapat terlaksananya tujuan organisasi optimal Terkait produktivitas karyawan terdapat beberapa dapat mempengaruhi kefektifan berkomunikasi organisasi saluran komunikasi komunikasi kebawah komunikasi keatas komunikasi horizontal merupakan salah satu faktor dapat meningkatnya produktivitas kerja karyawan Tujuan adanya penelitian kali untuk mengetahui seberapa pengaruh komunikasi kebawah komunikasi atas komunikasi horizontal produktivitas kerja karyawan._xD_ Data digunakan penelitian data primer diperoleh penyebaran kuisoner Adapun respondennya karyawan Starfood International paciran lamongan berjumlah orang teknik pengambilan sampel menggunakan clustered sampling analisis statistik digunakan analisis regresi linear berganda._xD_ Hasil penelitian berdasarkan hasil analisi data dapat disimpulkan faktor terbukti berpengaruh signifikan produktivitas kerja karyawan komunikasi kebawah komunikasi horizontal komunikasi keatas terbukti berpengaruh secaa signifikan produktivitas kerja karyawan Starfood International Paciran Lamongan._xD_ Keywords Komunikasi kebawah komunikasi keatas komunikasi horizontal produktivitas kerja karyawan _xD_', 'Tujuan penelitian mengetahui pengaruh kemampuan pengaruh motivasi kinerja karyawan kontrak Sapta Pusaka Graha Nusantara SPGN Surabaya Popuasi penelitian karyawan kontrak bekerja dilapangan sudah bekerja atas tahun berjumlah karyawan Sedangkan metode penarikan sampel digunakan metode teknik simple random sampling dari jumlah populasi sebesar karyawan sebanyak responden Untuk mendapatkan data-data dibutuhkan metode pengumpulan data digunakan observasi wawancara penyebaran kuisioner Sedangkan metode analisis digunakan analisis regresi Linear Berganda pengujian hipotesis._xD_ Berdasarkan hasil analisis penelitian mengenai pengaruh kemampuan motivasi kinerja karyawan kontrak Sapta Pusaka Graha Nusantara SPGN Surabaya dapat disimpulkan terdapat pengaruh signifikan kemampuan kinerja karyawan motivasi sendiri pengaruh signifikan kinerja karyawan kedua variabel tersebut sama-sama mempunyai arah positif kinerja _xD_ Kata kunci Kemampuan Motivasi Kinerja Karyawan _xD_', 'Muhammad Sholeh Pengaruh Iklan Televisi Terhadap Keputusan Konsumen Untuk Memakai Kartu Seluler Kecamatan Geger dibawah bimbingan Bambang Setiyo Pambudi Suyono M.S.M._xD_ Penelitian bertujuan mengetahui pengaruh iklan keputusan konsumen menggunakan kartu seluler dilakukan masyarakat kecamatan Geger Kabupaten Bangkalan jumlah responden penelitian sebanyak Responden data terkumpul selanjutnya dilakukan analisis regresi linier berganda Dengan menggunakan alat bantu software SPSS . Hasil analisis pengujian hipotesis diperoleh berikut pengaruh iklan terdiri pesan struktur pesan format pesan sumber pesan mempunyai pengaruh signifikan keputusan konsumen menggunakan kartu seluler parsial diketahui variabel pesan merupakan variabel dominan memberikan pengaruh keputusan konsumen menggunakan kartu seluler Kecamatan Geger._xD_ Keywords Pesan Struktur Pesan Format Pesan Sumber Pesan._xD_', 'KUSNIYAH Analisis Volume Perdagangan Saham Return Saham Sebelum Sesudah Stock Split Pada Perusahaan Public Bursa Efek Indonesia Dibawah bimbingan Evaliati Amaniyah Prasetyo Nugroho Spi. MM._xD_ Kenaikan harga saham terlalu tinggi menyebabkan permintaan pembelian saham tersebut mengalami penurunan akhirnya menyebabkan harga saham perusahaan tersebut menjadi statis fluktuatif Untuk menghindari munculnya kondisi tersebut salah satu langkah diambil perusahaan melalui stock split diharapkan meningkatkan likuiditas saham _xD_ Tujuan penelitian bertujuan memperoleh bukti empiris mengenai aktifitas stock split mempunyai perbedaan volume perdagangan saham memperoleh bukti empiris mengenai aktifitas stock split mempunyai perbedaan return saham Pendekatan penelitian digunakan penelitian pendekatan kuantitatif _xD_ Populasi penelitian seluruh perusahaan Public Bursa Efek Indonesia melakukan aktifitas stock split teknik pengambilan sampel menggunakan metode purposive Sampling jumlah sampel perusahaan kemudian dianalisis menggunakan paired sample _xD_ Kesimpulan penelitian terdapat perbedaan volume perdagangan saham sesudah stock split perusahaan sampel terdapat perbedaan volume perdagangan saham sesudah stock split perusahaan sampel terdapat perbedaan return saham sesudah stock split perusahaan sampel terdapat perbedaan return saham sesudah stock split perusahaan sampel._xD_ _xD_ Kata kunci Stock Split Volume Perdagangan Saham Return Saham_xD_', 'Abstrak_xD_ Penelitian menggunakan metode kuantitatif menekankan pengujian hipotesis Variabel digunakan penelitian kepemimpinan kompensasi Penelitian dilaksanakan Kantor Dinas Pendidikan Kabupaten Sampang sampel digunakan sebanyak orang terdiri pegawai negeri sipil _xD_ Hipotesis pertama menjelaskan variabel bebas bersama–sama mempunyai hubungan signifikan simultan kepemimpinan kompensasi kinerja pegawai terbukti nilai Fhitung tingkat sebesar , nilai sebesar , _xD_ Hipotesis kedua menjelaskan variabel kompensasi variabel mempunyai pengaruh dominan terbukti nilai hitung , berarti terdapat pengaruh positif signifikan parsial variabel bebas variabel terikat _xD_ Kesimpulan penelitian pengujian hipotesis pertama menunjukkan berdasarkan pengujian statistik simultan variabel bebas memiliki pengaruh signifikan variabel terikat Pengujian hipotesis kedua membuktikan variabel kompensasi merupakan variabel berpengaruh dominan kinerja pegawai Dinas Pendidikan Kabupaten Sampang _xD_ Kata kunci Kepemimpinan Kompensasi Kinerja_xD_', 'ABSTRAK_xD_ _xD_ LUTFI KAMALI Pengaruh Strategi Bauran Pemasaran Terhadap Keputusan Pembelian Botol SOSRO Study Pada Mahasiswa Universitas Trunojoyo Madura Dibawah bimbingan Pribanus Wantara Nirma Kurriwati M.Si._xD_ Tujuan penelitian mengetahui Strategi Bauran Pemasaran terdiri Produk Harga Promosi Distribusi berpengaruh baik simultan maupun parsial keputusan pembelian konsumen mengetahui variabel manakah berpengaruh dominan keputusan mahasiswa pembelian Botol SOSRO Universitas Trunojoyo Madura Hipotesis diajukan Strategi Bauran Pemasaran terdiri produk harga promosi distribusi berpengaruh signifikan baik simultan maupun parsial keputusan pembelian Sedangkan variabel dominan Promosi._xD_ Objek penelitian pembelian Botol SOSRO Universitas Trunojoyo Madura sampel sebanyak mahasiswa Teknik analisis data digunakan untuk meguji hipotesis menggunakan regresi Linier Berganda memakai Berdasar hasil penelitian model regresi Linier Berganda sistematis berikut _xD_ -, +, +,X+, X+, e_xD_ Hasil analisis penelitian menunjukkan simultan menggunakan bauran pemasaran terdiri produk harga promosi distribusi bersama-sama maupun parsial mempunyai pengaruh signifikan keputusan pembelian mahasiswa botol SOSRO lingkungan Universitas Trunojoyo Madura Sehingga disimpulkan untuk meningkatkan keputusan pembelian mahasiswa botol SOSRO lingkungan Universitas Trunojoyo Madura meningkatkan Strategi bauran pemasaran terdiri produk harga promosi distribusi memprioritaskan promosi memiliki pengaruh dominan._xD_ _xD_ Kata kunci Produk Distribusi Harga Promosi Keputusan Pembelian_xD_', 'Tujuan penelitian mengetahui variabel periklanan promosi penjualan publisitas mempunyai pengaruh keputusan pembelian konsumen mengetahui variabel manakah berpengaruh dominan keputusan pembelian konsumen _xD_ Objek penelitian Mini market Alfamart Kamal sampel sebanyak konsumen berbelanja toko alfamart kamal Teknik analisis data digunakan untuk meguji hipotesis menggunakan regresi Linier Berganda memakai _xD_ Hasil analisis penelitian menyatakan simultan bauran promosi terdiri variabel periklanan promosi penjualan publisitas mempunyai pengaruh signifikan keputusan pembelian konsumen berbelanja toko Alfamart Kamal Secara parsial variabel promosi penjualan publisitas berpengaruh signifikan keputusan pembelian konsumen variabel periklanan berpengaruh secara signifikan keputusan pembelian konsumen berbelanja toko Alfamart Kamal Sedangkan variabel promosi penjualan merupakan variabel dominan mempengaruhi keputusan pembelian Sehingga disimpulkan untuk meningkatkan keputusan pembelian konsumen berbelanja toko Alfamart mini market Alfamart Kamal meningkatkan bauaran promosi segi periklanan promosi penjualan publisitas._xD_', 'ABSTRAK_xD_ _xD_ Kinerja pegawai sangat dibutuhkan menjalankan aktifitas suatu organisasi mewujudkan visi misi sesuai harapan Kinerja pegawai merupakan suatu perlu ditingkatkan setiap anggota organisasi terlaksananya tujuan organisasi optimal Terkait peningkatan kinerja pegawai terdapat beberapa mempengaruhinya Kepemilikan Saham menejerial Kepemilikan Saham Institusional._xD_ Tujuan penelitian untuk mengetahui seberapa pengaruh Kepamilikan Saham menejerial Kepemilikan Saham Institusional peningkatan kinerja karyawan._xD_ Data digunakan penelitian data primer diperoleh penyebaran kuesioner Adapun respondennya karyawan CV.YUDHISTIRA CV.WEST MAKMUR berjumlah orang teknik pengambilan sampel menggunakan Clustered Sampling Analisis statistik digunakan regresi linier berganda._xD_ Hasil penelitian Berdasarkan hasil analisis data disimpulkan faktor telah terbukti berpengaruh signifikan peningkatan kinerja pegawai Kepemilikan Saham Institusional faktor Kepemilikan Saham Manajerial terbukti berpengaruh signifikan peningkatan kinerja karyawan CV.YUDHISTIRA CV.WEST MAKMUR_xD_ _xD_ _xD_ word Kepemilikan Saham Manajerial Kepemilikan Saham Institusional peningkatan kinerja karyawan._xD_', 'Penelitian dilatar belakangi ketatnya persaingan industri otomotif Indonesia munculnya berbagai merek baru pasar khususnya segmen mobil Penelitian bertujuan menguji pengaruh elemen-elemen ekuitas merek terdiri kesadaran merek persepsi kualitas asosiasi merek loyalitas merek keputusan pembelian konsumen mobil Suzuki Ertiga._xD_ Setelah dilakukan tinjauan pustaka penyusunan hipotesis data dikumpulkan melalui metode kuesioner orang pengguna mobil Suzuki Ertiga Surabaya diperoleh menggunakan teknik purposive sampling Kemudian dilakukan analisis data diperoleh data kuantitatif Analisis meliputi validitas reliabilitas asumsi klasik analisis regresi berganda pengujian hipotesis melalui F._xD_ Data-data telah memenuhi validitas reliabilitas asumsi klasik dianalisis menggunakan analisis regresi linear berganda menghasilkan persamaan regresi berikut _xD_ , ,X ,X ,X ,X_xD_ Dimana variabel keputusan pembelian konsumen kesadaran merek persepsi kualitas asosiasi merek loyalitas merek Melalui diketahui hasil menunjukkan variabel kesadaran merek persepsi kualitas asosiasi merek loyalitas merek berpengaruh positif keputusan pembelian Angka Adjusted Square menunjukkan variasi keputusan pembelian konsumen dijelaskan keempat variabel independen persamaan regresi Sedangkan sisanya dijelaskan variabel diluar keempat variabel digunakan penelitian Pengujian hipotesis menggunakan menunjukkan variabel indpenden kesadaran merek persepsi kualitas berpengaruh positif signifikan keputusan pembelian Sedangkan variabel independen lainnya asosiasi merek loyalitas merek berpengaruh signifikan keputusan pembelian konsumen Jadi keempat variabel ekuitas merek kesadaran merek persepsi kualitas asosiasi merek loyalitas merek memiliki pengaruh dominan variabel persepsi kualitas._xD_ Kata kunci keputusan pembelian konsumen kesadaran merek persepsi kualitas asosiasi merek loyalitas merek', 'Abtrak _xD_ USWATUN KHASANAH Pengaruh Etos Kerja Terhadap Presatasi Kerja Karyawan PT.PLN Persero Diatribusi Jawa Timur Area Mojokerto _xD_ Pengumpulan data penelitian mengunakan survey kuesioner Kuesioner dibagikan sebagian karyawan Persero Distribusi Jawa Timur Area Mojokerto berjumlah karyawan Teknik analisis data digunakan meguji hipotesis menggunakan regresi Linier Berganda memakai Hasil analisis penelitian menyatakan simultan menggunakan etos kerja terdiri semanagt kerja disiplin kerja kerja sama bersama-sama mempunyai pengaruh signifikan prestasi kerja karyawan Persero Distribusi Jawa Timur Area Mojokerto._xD_ Secara parsial menggunakan menunjukkan variabel kerja sama semangat kerja berpengaruh signifikan variabel disiplin kerja berpengaruh signifikan prestasi kerja karyawan Persero Distribusi Jawa Timur Area Mojokerto Sedangkan variabel etos kerja merupakan variabel dominan mempengaruhi prestasi kerja karyawan Sehingga disimpulkan untuk meningkatkan prestasi kerja karyawan Persero Distribusi Jawa Timur Area Mojokerto meningkatkan etos kerja kerja sama semangat kerja _xD_ Kata kunci Etos Kerja Prestasi kerja._xD_', 'Imam Humaini  Pengaruh modal kerja profitabilitas perusahaan otomotif terdaftar bursa efek indonesia periode tahun - dibawah bimbingan Gatot Heru Pranjoto Purnamawati Msi_xD_ Penelitian dilakukan menguji pengaruh variabel perputaran perputaran persediaan perputaran piutang Profitabilitas perusahaan otomotif terdaftar Bursa Efek Indonesia periode - Teknik pengambilan sampel digunakan purposive sampling kriteria perusahaan otomotif menerbitkan mempublikasikan laporan keuangan tahunan - perusahaan tersebut mengalami delisting selama periode pengamatan perusahaan tersebut terdaftar Bursa Efek Indonesia periode pengamatan Data diperoleh berdasarkan publikasi indonesian Capital Market Directori ICMD jumlah sampel memenuhi kriteria sebanyak perusahaan perusahaan otomotif terdaftar _xD_ Teknik analisis digunakan penelitian regresi linier berganda hipotesis menggunakan t–statistik menguji pengaruh variabel variabel parsial f-statistik menguji pengaruh variabel bebas variabel terikat bersama-sama level significance Berdasarkan hasil perputaran perputaran persediaan perputaran piutang berpengaruh signifikan Hasil pengaruh simultan menunjukkan secara bersama-sama variabel independen berpengaruh signifikan tehadap Nilai adjusted square sebesar , menunjukkan dapat dijelaskan variabel independen perputaran perputaran persediaan perputaran piutang sisanya sebesar dijelaskan variabel lain._xD_ _xD_ Kata Kunci Profitabilitas perputaran perputaran persediaan perputaran piutang._xD_', 'Tujuan penelitian mengetahui pengaruh kerja malam kinerja karyawan Bagian Debt Collector Pada Perusahaan Kredit Elektronik Surabaya pengaruh psikis kinerja karyawan Bagian Collector Pada Perusahaan Kredit Elektronik Surabaya pengaruh dominan kinerja karyawan Bagian Collector Pada Perusahaan Kredit Elektronik Surabaya._xD_ Penelitian menggunakan pendekatan kuantitatif berusaha mengetahui bagaimana pengaruh beban kerja kerja kinerja karyawan Bagian Debt Collector Pada Perusahaan Kredit Elektronik Surabaya.Jumlah sampel sebanyak responden Teknik pengumpulan data wawancara kuesioner menggunakan skala likert untuk mengukur jawaban responden Untuk menguji instrumen menggunakan validitas reliabilitas asumsi klasik Sedangkan teknik analisis data menggunakan analisis regresi linier berganda variabel digunakan lebih variabel dengan t._xD_ Berdasarkan penelitian regresi linear berganda menunjukkan kerja malam berpengaruh kinerja karyawan kinerja karyawan Bagian Debt Collector Pada Perusahaan Kredit Elektronik Surabaya selanjutnya psikis berpengaruh kinerja karyawan Bagian Debt Collector Pada Perusahaan Kredit Elektronik Surabaya Variabel psikis berpengaruh dominan kinerja karyawan Bagian Debt Collector Pada Perusahaan Kredit Elektronik Surabaya._xD_', 'ABSTRAK_xD_ Satiyah Pengaruh Faktor-faktor Pelatihan Pengembangan Terhadap Produktivitas Kerja Dinas Kelautan Perikanan Bangkalan Dibawah bimbingan Dra.Hj.S.Anugrahini Irawati Helmi Buyung Aulia ST.SE M.MT_xD_ Dalam upaya meningkatkan produktivitas kerja tidaklah mudah salah satu usaha produktivitas meningkat menerapkan program pelatihan pengembangan sumber daya manusia perlu dilaksanakan instansi produktivitas tinggi tercapai meningkat kemampuan pegawai bekerja efektif efisien Dengan adanya pelatihan pengembnagan diharapkan pegawai mampu menyesuaikan diri kebutuhan-kebutuhan baru atas sikap tingkah laku keterampilan pengetahuan sesuai tuntutan perubahan Dengan adanya pelatihan pengembangan pegawai baik dapat mendukung terciptanya suasana kerja kondusif instansi sendirinya produktivitasi kerja meningkat._xD_ Tujuan penelitian mengetahui seberapa besar Pengaruh Faktor-faktor Pelatihan Pengembangan Terhadap Produktivitas Kerja Dinas Kelautan Perikanan Bangkalan Untuk mengukur menganalisa hubungan kedua variabel atas peneliti menggunakan pendekatan observasional analitik melakukan pengamatan langsung responden penyebaran kuisioner untuk dianalisis Penelitian merupakan penelitian populasi responden sampel diolah SPSS Versi . dianalisis menggunakan metode statistik metode probality sampling simple random sampling._xD_ Kesimpulan penelitian Faktor-faktor pelatihan pengembangan terdiri perbedaan individu pegawai hubungan analisis jabatan motivasi partisipasi aktif seleksi peserta seleksi instruktur metode pelatihan pengembangan mempunyai pengaruh simultan produktivitas kerja pegawai Dinas Kelautan Perikanan Kabupaten Bangkalan Terbukti nilai koefisien determinasi berganda square , Fhitung , lebih besar Ftabel , Faktor hubungan dengan analisis jabatan berpengaruh parsial produktivitas kerja pegawai Dinas Kelautan Perikanan Kabupaten Bangkalan Pengujian Hipotesis kedua menunjukkan variabel motivasi terbukti karena dilihat nilai thitung Sebesar , menunjukkan seleksi peserta mempunyai pengaruh dominan produktivitas kerja pegawai instansi Dinas Kelautan Perikanan Bangkalan _xD_ _xD_ Kata kunci Dinas Kelautan Perikanan Faktor-faktor Pelatihan Pengembangan Produktivitas Kerja._xD_', 'ABSTRAK_xD_ _xD_ _xD_ Hendra Irawan Pengaruh Kepercayaan Komitmen Terhadap Kualitas Hubungan Patner Usaha Pada Adira Dinamika Multi Finance Pamekasan Dibawah Bimbingan Anugrahini Mudji Kuswinanrno Si._xD_ Tujuan penlitian untuk mengetahui pengaruh kepercayaan komitmen kualitas hubungan Patner usaha dilaksanakan Adira Dinamika Multi Finance Baik simultan maupun parsial Mengetahui manakah paling berpengaruh kepercayaan komitmen kualitas hubungan Adira Dinamika Multi Finance._xD_ Penelitian dilakukan kuantitatif Dengan menggunakan metode survai Tehnik penarikan sampel menggunakan Quota sampling dianalisis analisis jalur Path Analysis ._xD_ Hipotesis Penelitian Kepercayaan komitmen berpengaruh signifikan kualitas hubungan patner usaha Adira dinamika multi finance komitmen paling berpengaruh kualitas hubungan patner usaha Dinamika multi finance._xD_ Kesimpulan penelitian studi Variabel kepercayaan komitmen simultan mempunyai pengaruh positif kualitas hubungan patner usahanya Variabel paling berpengaruh kualitas hubungan patner usaha Adira dinamika multi finance Pamekasan variabel kepercayaan._xD_ _xD_ Kata kunci Komitmen Kepercayaan._xD_', 'Penelitian dilatarbelakangi semakin tingginya seseorang bertransaksi melalui internet Indonesia khususnya Pihak pengusaha/ melakukan penjualan melalui internet mempunyai strategi-strategi memenangkan persaingan memberikan kepercayaan kemudahan bertransaksi memberikan kualitas diinginkan konsumen Dari tersebut peran kepercayaan kemudahan kualitas informasi sangat penting Unsur-unsur kepercayaan kemudahan kualitas informasi saling terkait pihak pengelola mencapai tujuannya dapat meningkatkan/memuaskan kebutuhan keinginan konsumen _xD_ Tujuan penelitian Untuk mengetahui pengaruh kepercayaan kemudahan kualitas informasi keputusan pembelian online Untuk mengetahui variabel dominan mempengaruhi keputusan pembelian online._xD_ Penelitian menggunakan pendekatan kuantitatif berusaha mengetahui bagaimana pengaruh kepercayaan kemudahan kualitas informasi pengambilan keputusan pembelian online situs www.rumahmadani.com Teknik pengambilan sampel menggunakan probability sampling penentuan sample secara acak tujuan khusus purposive sampling responden Teknik pengumpulan data dengan wawancara/ chatting kepustakaan kuesioner menggunakan skala likert mengukur jawaban responden Untuk menguji instrumen menggunakan validitas reliabilitas asumsi klasik Sedangkan teknik analisis data menggunakan analisis regresi linier berganda variabel digunakan lebih variabel dengan t._xD_ Kata Kunci keputusan pembelian kepercayaan kemudahan kualitas informasi._xD_', 'ABSTRAK_xD_ Penelitian menggunakan metode kuantitatif menekan pengujian hipotesis Variabel gnakan penelitian kepemipinan kharismatik kepemimpinan transaksional kepemimpinan tranforsional Penelitian laksanakan universitas trunojoyo Madura sampel digunakan sebanyak orang teridiri kelompok satpam PT.Marina Harta._xD_ Hipotesis pertama menjelaskan variable bebas bersama-sama mempunyai hubungan signifikan perilaku kelompok satpam terbukti nilai hitung lebih besar table tingkat , , nila sebesar , ._xD_ Hipotesis kedua menjelaskan varibel kepemimpinan kharismatik variable mempunyai pengaruh dominan terbukti nilai hitung lebih besar table tingkat signifikan sebesar , , ._xD_ Kesimpulan penelitian pengujian hipotesis pertama menunjukkan berdasarkan pengujian statistic stimulant variable bebas terdiri kepemimpinan kharismatik kepemimpinan transaksional kepemimpinan transformasional memiliki pengaruh signifikan varibel terikat perilaku satpam Marina harta Unit Pengujian hipotesis kedua membuktikan varibel kepemimpinan karismatik merupakan varibel berpengaruh dominan perilaku kelompok satpam Marina Harta unit UTM._xD_ _xD_ Kata Kunci Gaya kepemimpinan perilaku kelompok_xD_', 'Penelitian dilatarbelakangi seringnya dilakukan rotasi jabatan terjadi jajaran pejabat Pemerintah Kabupaten Sumenep dilaksanakan mulai level pejabat bekerja dinas instansi SKPD berada wilayah otonomi daerah Kabupaten Sumenep Termasuk Kantor Kelurahan merupakan level pemerintahan paling rendah mempunyai tugas pokok fungsi melayani masyarakat berada wilayahnya bisnis industri.Adapun menjadi rumusan masalah penelitian Bagaimana pengaruh rotasi jabatan kepuasan kerja pegawai Kelurahan Kelurahan Kecamatan Kota Kabupaten Sumenep Variabel manakah rotasi jabatan paling berpengaruh kepuasan kerja pegawai Kelurahan Kelurahan Kecamatan Kota Kabupaten Sumenep .Penelitian bertujuan Untuk mengetahui tidaknya pengaruh rotasi jabatan kepuasan kerja pegawai Kantor Kelurahan Kecamatan Kota Kabupaten Sumenep Untuk mengetahui seberapa besar pengaruh rotasi jabatan kepuasan kerja pegawai Kantor Kelurahan Kecamatan Kota Kabupaten Sumenep._xD_ Dalam penelitian data dikumpulkan melalui metode kuisioner orang pegawai berada empat Kelurahan Kecamatan Kota Sumenep menggunakan metode purposive sampling Bersumber data primer data sekunder teknik pengumpulan data berupa kuisioner wawancara studi dokumentasi Variabel bebas digunakan Standar Kriteria Kebutuhan Formasi Pegawai Tujuan Objektifitas Sedangkan Variabel Kepuasan Kerja .untuk mengetahui tanggapan responden masing-masing variabeldilakukan analisis data-data diperoleh berupa analisis kuantitatif analisiskualitatif Analisis kuantitatif meliputi validitas reliabilitas asumsiklasik hipotesis lewat Teknik analisis data digunakan analisis regersi linear berganda berfungsi membuktikan hipotesis penelitian _xD_ Hasil analisis penelitian diketahui bahwasecara stimultan variabel Standar Kriteria kebutuhan Formasi pegawai Tujuan Obyektifitas berpengaruh positif kepuasan kerja tingkat signifikan sebesar , diperkuat hasil distribusi frekuensi variabel kepuasan pegawai sebagian besar responden setuju rotasi jabatan berpengaruh kepuasan kerja pegawai rata rata frekuensi jawaban sebesar , .Secara parsial terdapat variabel berpengaruh kelima variabel Variabel Standar Kriteria kebutuhan Formasi pegawai Tujuan Obyektifitas kepuasan kerja pegawai Yaitu variabel standar kriteria variabel kebutuhan Variabel rotasi jabatan paling dominan berpengaruh kepuasan kerja pegawai negeri sipil Kantor Kelurahan Kecamatan Kota Kabupaten Sumenep Variabel Standar Kriteria nilai sebesar sebesar .._xD_ _xD_ Kata Kunci Rotasi Jabaran Standar Kriteria Kebutuhan Formasi Pegawai Tujuan Obyektifitas Kepuasan Kerja Pegawai._xD_', 'Syaiful Anwar Pengaruh keselamatan kesehatan kerja produktivitas kerja studi kasus Bagian Produksi Marianal Indo Prima Cabang Pamekasan Dibawah bimbingan Mudji Kuswinarmo M.Si Muhammad Akirom Wildan M.Si._xD_ Latar belakang penelitian Persaingan bidang industri menuntut perusahaan mampu bertahan berkompetisi Salah satu dapat ditempuh perusahaan mampu bertahan persaingan ketat meningkatnya produktivitas kerja Produktivitas kerja dipengaruhi keselamatan kesehatan kerja._xD_ Penelitian bertujuan meneliti keselamatan kesehatan kerja berpengaruh signifikan produksi kerja karyawan marinal indo prima cabang pamekasan Untuk membuktikan hipotesis penelitian penelitian alat analisis digunakan regresi linear berganda dengan bantuan SPSS Hasil analisis regresi linear berganda peroleh persamaan berikut _xD_ ,+,X+,X+e_xD_ Dari hasil pengujian variabel diatas menunjukkan bahwasanya variabel keselamatan kesehatan kerja sama-sama berpengaruh signifikan produktivitas kerja karyawan Marinal Indo Prima_xD_ _xD_ _xD_ Kata kunci keselamatan kesehatan produktivitas kerja._xD_', 'Tujuan penelitian mengetahui variabel terdiri kepribadian merk nilai merk hubungan merk-konsumen citra pengguna simultan memiliki pengaruh signifikan kepuasan konsumen untuk mengetahui variabel manakah kepribadian merk nilai merk hubungan merk-konsumen citra pengguna berpengaruh dominan kepuasan konsumen untuk membuktikan hipotesis penelitian alat analisis digunakan regresi linier berganda bantuan SPSS _xD_ Hasil pengujian menunjukkan nilai Fhitung sebesar , nilai signifikan Fhitung sebesar . . berarti pengaruh signifikan variabel kepribadian merk nilai merk hubungan merk-konsumen citra penggunasecara simultan kepuasan konsumen sepeda motor supra ._xD_', 'ABSTRAK_xD_ Dharma Abidin Syah Kesimpulan Terdapat pengaruh signifikan variabel tipe kepemimpinan Autoritarian Laissez-Faire Demokratis simultan variabel Prestasi Kerja pegawai kantor Kecamatan Pangarengan Kabupaten Sampang Hasil anova menunjukan nilai Fhitung , Ftabel , Variabel tipe kepemimpinan Autoritarian Laissez-Faire Demokratis simultan memberikan kontribusi sebesar , Prestasi Kerja pegawai Tidak terdapat pengaruh signifikan variabel kepemimpinan Tipe Autoritariansecara parsial Prestasi Kerja pegawaidikantor Kecamatan Pangarengan Kabupaten Sampang Hasil menunjukan nilai hitung , tabel , Secara parsial variabel kepemimpinan Tipe Autoritarian memberikan kontribusi sebesar , variabel Prestasi Kerja pegawai Tidak terdapat pengaruh signifikan variabel kepemimpinan Tipe Laissez-Fairesecara parsial Prestasi Kerja pegawaidikantor Kecamatan Pangarengan Kabupaten Sampang._xD_ Hasil menunjukan nilai hitung , tabel , Secara parsial variabel kepemimpinan Tipe Laissez-Faire memberikan kontribusi sebesar , variabel Prestasi Kerja pegawai Terdapat pengaruh signifikan variabel kepemimpinan Tipe Demokratis parsial Prestasi Kerja pegawaidikantor Kecamatan Pangarengan Kabupaten Sampang Hasil menunjukan nilai hitung , tabel , Secara parsial variabel kepemimpinan Tipe Demokratis memberikan kontribusi sebesar , variabel Prestasi Kerja pegawai Variabel Tipe Demokratis mempunyai nilai koefisien determinasi lebih besar variabel bebas lainya merupakan variabel dominan berpengaruh variabel Prestasi Kerja pegawai dikantor Kecamatan Pangarengan Kabupaten Sampang_xD_ Kata Kunci Tipe Kepemimpinan Prestasi Kerja Pegawai _xD_', 'Pendekatan penelitian digunakan penelitian pendekatan kuantitatif Populasi penelitian perusahaan liquid terdaftar Bursa Efek Indonesia teknik penarikan sampel menggunakan metode Purpossive Sampling kemudian dianalisis menggunakan regresi linier berganda menggunakan bantuan alat analisis Statistical Program Service Solution SPSS versi ._xD_ _xD_ Hipotesis penelitian duga terdapat pengaruh parsial maupun simultan variabel Rasio Likuiditas Current Ratio Struktur Modal Debt Equity Ratio Profitabilitas perusahaan liquid terdaftar Bursa Efek Indonesia._xD_ _xD_ Hasil penelitian menunjukkan variabel current ratio parsial memiliki pengaruh signifikan Profitabilitas variabel debt equity ratio parsial memiliki pengaruh tidak signifikan Profitabilitas Berdasarkan hasil simultan didapatkan hasil Current Ratio Debt Equity Ratio tidak memiliki pengaruh tidak signifikan Profitabilitas pada perusahaan-perusahaan ._xD_ _xD_ Kata kunci Likuiditas Current Ratio Struktur Modal Debt Equity Ratio Profitabilitas _xD_', 'ABSTRAK_xD_ Haryono Arifin Pengaruh Perilaku Konsumen Terhadap Keputusan Pembelian Produk Honda Merek Vario _xD_ Studi Pada Dealler Surya Agung Motor Bangkalan ._xD_ _xD_ Tujuan penelitian mengetahui seberapa besar pengaruh perilaku konsumen keputusan pembelian Honda Merek Vario Dealer Surya Agung Motor Bangkalan Untuk mengetahui variabel manakah diantara perilaku konsumen terdiri kebudayaan sosial pribadi psikologis dominan keputusan pembelian konsumen Honda Merek Vario Penelitian menggunakan pendekatan kuantitatif melakukan pengamatan langsung responden penyebaran kuesioner untuk dianalisa penelitian merupakan penelitian menggunakan populasi sebanyak responden konsumen melakukan pembelian Honda Merek Vario Dealer Surya Agung Motor Bangkalan dijadikan responden dianalisis SPSS Versi ._xD_ Kesimpulan penelitian Pengujian hipotesis pertama menunjukkan variabel perilaku konsumen kebudayaan sosial pribadi psikologis berpengaruh simultan keputusan pembelian Honda merek Vario Pengujian hipotesis kedua menunjukkan variabel psikologis variabel berpengaruh dominan._xD_ Kata kunci Kebudayaan Sosial Pribadi Psikologis Keputusan Pembelian._xD_', 'Objek penelitian pembelian produk Kecamatan Bangkalan sampel sebanyak konsumen Teknik analisis data digunakan meguji hipotesis menggunakan regresi Linier Berganda memakai Berdasar hasil penelitian model regresi Linier Berganda sistematis._xD_ Hasil analisis penelitian menunjukkan simultan menggunakan bauran pemasaran terdiri produk harga promosi distribusi bersama-sama mempunyai pengaruh signifikan keputusan pembelian Pada produk Kecamatan Bangkalan.Secara parsial menggunakan menunjukkan variabel promosi distribusi berpengaruh signifikan variabel produk harga berpengaruh signifikan keputusan pembelian Pada produk Kecamatan Bangkalan Variabel distribusi berpengaruh keputusan pembelian Sehingga disimpulkan untuk meningkatkan keputusan pembelian produk Kecamatan Bangkalan meningkatkan Strategi Bauran Pemasaran segi promosi distribusi._xD_', 'ABSTRAK Firda Kamalia Analisis Kinerja Sumber Daya Manusia Menggunakan Metode Human Resources Scorecard Universitas Trunojoyo Madura bawah bimbingan Iriani Ismail Dra. Mudji Kuswinarno M.Si Penelitian bertujuan menganalisis kinerja Universitas Trunojoyo Madura menggunakan metode Human Resources Scorecard HRSC perspektif perspektif keuangan perspektif pelanggan perspektif prose bisnis internal perspektif prose pembelajaran pertumbuhan Penelitian menggunakan data primer data sekunder Pengumpulan data dilakukan melalui wawancara Data dianalisis pendekatan kualitatif analisis hasil wawancara berdasarkan indikator ketersediaan data akurasi objektifitas kredibilitas generalibiitas relevansi praktikal Dari hasil wawancara staf kepala bagian kepegawaian beserta kepala BAUK dikaitkan perspektif Human Resources Scorecard didapat kinerja sumber daya manusia bagian kepegawaian tahun  sebesar , baik mengalami peningkatan signifikan tahun  sebesar , sangat baik menunjukkan manajemen umum optimal Kendati cukup optimal perlu diperbaiki tersebut diakibatkan lemahnya sistem pengukuran kinerja objektif berpatokan Sasaran Kerja Pegawai masih terdapat tenaga memenuhi standar kompetensi membuat indicator kinerja pemindahan/ pemutaran karyawan Kata Kunci Kinerja Pengukuran Kinerja HRSc', 'Rahbini Pengaruh Harga Kualitas Pelayanan Terhadap Kepuasan Berbelanja Swalayan Jerry Bangkalan dibawah bimbingan Pribanus Wantara Nirma Kurriwati ._xD_ Penelitian bertujuan mengukur pengaruh Harga Kualitas Pelayanan Terhadap Kepuasan Berbelanja Swalayan Jerry dilakukan konsumen berbelanja swalayan Jerry jumlah responden penelitian sebanyak responden data terkumpul selanjutnya dilakukan analisis Regresi Linier Berganda Dengan menggunakan alat bantu software SPSS .. hasil analisis pengujian hipotesis diperoleh berikut harga kualitas pelayanan mempunyai pengaruh simultan kepuasan berbelanja swalayan Jerry Secara Parsial variabel harga kehandalan daya tanggap jaminan empati bukti fisik mempunyai pengaruh parsial kepuasan berbelanja swalayan Jerry Bangkalan variabel harga merupakan variabel dominan berpengaruh kepuasan berbelanja swalayan Jerry Bangkalan _xD_ _xD_ Kata Kunci Harga Keandalan Daya Tanggap Jaminan Empati Bukti Fisik_xD_', '_xD_ Gilang Reza Khasogi pengaruh pemberian kompensasi motivasi kinerja karyawan Cerelia Bangkalan Dibawah bimbingan Alkirom Wildan S.E. M.Si Drs.Ec Mudji Kuswinarno.M.Si ._xD_ Dunia bisnis sekarang dituntut menciptakan kinerja karyawan tinggi pengembangan perusahaan Perusahaan mampu membangun meningkatkan kinerja lingkungannya Cerelia terletak Bangkalan merupakan perusahaan bergerak dibidang penyedia alat tulis aksesoris menyadari pentingnya meningkatkan motivasi menghasilkan kinerja karyawan optimal mencapai tujuan perusahaan meningkatkan laba _xD_ _xD_ Tujuan penelitian mengetahui variabel terdiri kompensasi finansial kompensasi finansial motivasi simultan memiliki pengaruh signifikan kinerja karyawan untuk mengetahui variabel manakah kompensasi finansial kompensasi finansial motivasi berpengaruh dominan kinerja karyawan untuk membuktikan hipotesis penelitian alat analisis digunakan regresi linier berganda bantuan SPSS _xD_ _xD_ Hasil pengujian menunjukkan nilai Fhitung sebesar , nilai signifikan Fhitung sebesar . . berarti pengaruh signifikan variabel kompensasi finansial langsung kompensasi finansial langsung kompensasi nonfinansial simultan kinerja karyawan Cerelia aksesoris stationary Bangkalan._xD_ Koefisien determinasi berganda square sebesar . berarti bersama-sama , perubahan variabel kinerja karyawan CV.Cerelia aksesoris stationary Bangkalan disebabkan variabel kompensasi finansial kompensasi finansial motivasi Sedangkan sisanya , disebabkan variabel masuk model Dari hasil penelitian variabel kompensasi finansial terbukti kebenarannya yang berpengaruh dominan nilai beta sebesar ,._xD_ _xD_ Kata kunci kompensasi motivasi kinerja karyawan _xD_ _xD_', 'Abstrak_xD_ _xD_ Aththaariq Pengaruh Kompetensi Dosen Terhadap Kinerja Dosen Universitas Trunojoyo Madura Dibawah bimbingan Dr.RM Moch Wispandono .S.E Muhammad Alkirom Wildan S.E. M.Si._xD_ Penelitian bertujuan menganalisis pengaruh kompetensi pedagogik kompetensi profesional kompetensi sosial kompetensi kepribadian variabel terikat kinerja dosen Universitas Trunojoyo Madura._xD_ Data digunakan penelitian data primer data tersebut diperoleh hasil penyebaran kuesioner menjadi responden penelitian dosen Universitas Trunojoyo Madura sudah tersertifikasi aktif mulai tahun - berjumlah dosen teknik pengambilan sampel menggunakan judgmental sampling menggunakan metode analisis regresi linier berganda._xD_ Dari hasil penelitian telah dilakukan berdasarkan hasil analisis disimpulkan kompetensi pedagogik kompetensi profesional kompetensi sosial kompetensi kepribadian berpengaruh signifikan variabel terikat kinerja dosen baik simultan maupun parsial Pada nilai koefisiensi determinasi berganda menunjukkan nilai sebesar . artinya . kinerja dosen dipengaruhi perubahan semua variabel bebas telah diteliti sisanya . dipengaruhi variabel tidak diteliti Sedangkan variabel yang memiliki pengaruh dominan variabel kompetensi pedagogik nilai signifikansi sebesar . memiliki nilai beta sebesar . _xD_ _xD_ Kata kunci Kompetensi pedagogik kompetensi profesional kompetensi sosial kompetensi kepribadian kinerja dosen._xD_ _xD_']\n"
     ]
    }
   ],
   "source": [
    "a=len(dokumen2)\n",
    "dokumenstop=[]\n",
    "for i in range(0, a):\n",
    "    sentence = stopword.remove(dokumen2[i])\n",
    "    dokumenstop.append(sentence)\n",
    "print(dokumenstop)   "
   ]
  },
  {
   "cell_type": "markdown",
   "metadata": {},
   "source": [
    "lalu pada kode diatas digunakan untuk menghilangkan kata hubung. kode diatas menggunakan library sastrawi agar dapat berkerja, sastrawi juga digunakan karena library ini support untuk kata kata bahasa indonesia."
   ]
  },
  {
   "cell_type": "markdown",
   "metadata": {},
   "source": [
    "# Penggunaan Sastrawi untuk menghilangkan tanda baca"
   ]
  },
  {
   "cell_type": "code",
   "execution_count": 71,
   "metadata": {},
   "outputs": [
    {
     "name": "stdout",
     "output_type": "stream",
     "text": [
      "['Abstrak', 'Hardik Pratama  Pengaruh Perilaku Konsumen Terhadap Keputusan Pembelian Makanan Tradisional Kabupaten Bangkalan bawah bimbingan Pribanus Wantara Drs Syarif DrsEc SixD Tujuan penelitian mengetahui pengaruh perilaku konsumen terdiri kebudayaan sosial pribadi psikologis simultan keputusan pembelian makanan tradisional kabupaten Bangkalan mengetahui variabel perilaku konsumen berpengaruh dominan keputusan pembelian makanan tradisional kabupaten BangkalanxD Penelitian menggunakan pendekatan pendekatan kuantitatif berusaha mengetahui bagaimana pengaruh perilaku konsumen keputsan pembelian makanan tradisional kabupaten Bangkalan Teknik pengambilan sampel menggunakan purposive sampling responden Teknik pengumpulan data wawancara kuesioner menggunakan skala likert untuk mengukur jawaban responden Untuk menguji instrumen menggunakan validitas reliabilitas asumsi klasik Sedangkan teknik analisis data menggunakan analisis regresi linier berganda variabel digunakan lebih variabel dengan txD Hasil penelitian menunjukkan variabel perilaku konsumen terdiri kebudayaan sosial pribadi psikologis simultan keputusan pembelian makanan tradisional kabupaten Bangkalan Variabel psikologis berpengaruh dominan keputusan pembelian makanan tradisional kabupaten BangkalanxD Kata Kuci Perilaku Konsumen Kebudayaan Sosial Pribadi Psikologis Keputusan PembelianxD xD', 'Perkembangan kemajuan industri salah satunya lihat adanya perkembangan dunia usaha semakin pesat Fenomena tersebut menyebabkan tiap perusahaan sejenis bersaing mempertahankan pelanggan salah satunya melalui strategi bauran pemasaran Bauran pemasaran terdiri produk harga promosi distribusi Secara khusus penelitian membahas bauran pemasaran toko Fely Jaya Kacamatan Pamekasan Adapun menjadi masalah penelitian faktorfaktor mempengaruhi keputusan pembelian merek produk Kecamatan Pamekasan penelitian menggunakan variabel variabel terikat variabel tergantung Tujuan penelitian mengetahui menganalisis pengaruh bauran pemasaran terdiri distribusi produk harga promosi keputusan pembelian konsumenxD Penelitian dilakukan menggunakan kuesioner orang pelanggan toko Fely Jaya Kecamatan Pamekasan Kemudian dilakukan analisis datadata diperoleh berupa analisis regresi Linier Berganda memakai txD Hasil penelitian berdasarkan hasil analisa data disimpulkan Variabel bebas terdiri variabel Produk Harga Promosi Distribusi mempunyai pengaruh signifikan variabel terikat Keputusan konsumen Akan variabel distribusi berpengaruh keputusan pembelian merek elektronik Fely Jaya Kecamatan Pamekasan responden memberikan saran variabel distribusi membuka usaha letaknya lebih strategis nyamanxD xD', 'Produktifitas karyawan sangat dibutuhkan perusahaan mewujudkan visi misi sesuai ditetapkan perusahaan Produktivitas karyawan merupakan suatu perlu ditingkatkan setiap anggota organisasi dapat terlaksananya tujuan organisasi optimal Terkait produktivitas karyawan terdapat beberapa dapat mempengaruhi kefektifan berkomunikasi organisasi saluran komunikasi komunikasi kebawah komunikasi keatas komunikasi horizontal merupakan salah satu faktor dapat meningkatnya produktivitas kerja karyawan Tujuan adanya penelitian kali untuk mengetahui seberapa pengaruh komunikasi kebawah komunikasi atas komunikasi horizontal produktivitas kerja karyawanxD Data digunakan penelitian data primer diperoleh penyebaran kuisoner Adapun respondennya karyawan Starfood International paciran lamongan berjumlah orang teknik pengambilan sampel menggunakan clustered sampling analisis statistik digunakan analisis regresi linear bergandaxD Hasil penelitian berdasarkan hasil analisi data dapat disimpulkan faktor terbukti berpengaruh signifikan produktivitas kerja karyawan komunikasi kebawah komunikasi horizontal komunikasi keatas terbukti berpengaruh secaa signifikan produktivitas kerja karyawan Starfood International Paciran LamonganxD Keywords Komunikasi kebawah komunikasi keatas komunikasi horizontal produktivitas kerja karyawan xD', 'Tujuan penelitian mengetahui pengaruh kemampuan pengaruh motivasi kinerja karyawan kontrak Sapta Pusaka Graha Nusantara SPGN Surabaya Popuasi penelitian karyawan kontrak bekerja dilapangan sudah bekerja atas tahun berjumlah karyawan Sedangkan metode penarikan sampel digunakan metode teknik simple random sampling dari jumlah populasi sebesar karyawan sebanyak responden Untuk mendapatkan datadata dibutuhkan metode pengumpulan data digunakan observasi wawancara penyebaran kuisioner Sedangkan metode analisis digunakan analisis regresi Linear Berganda pengujian hipotesisxD Berdasarkan hasil analisis penelitian mengenai pengaruh kemampuan motivasi kinerja karyawan kontrak Sapta Pusaka Graha Nusantara SPGN Surabaya dapat disimpulkan terdapat pengaruh signifikan kemampuan kinerja karyawan motivasi sendiri pengaruh signifikan kinerja karyawan kedua variabel tersebut samasama mempunyai arah positif kinerja xD Kata kunci Kemampuan Motivasi Kinerja Karyawan xD', 'Muhammad Sholeh Pengaruh Iklan Televisi Terhadap Keputusan Konsumen Untuk Memakai Kartu Seluler Kecamatan Geger dibawah bimbingan Bambang Setiyo Pambudi Suyono MSMxD Penelitian bertujuan mengetahui pengaruh iklan keputusan konsumen menggunakan kartu seluler dilakukan masyarakat kecamatan Geger Kabupaten Bangkalan jumlah responden penelitian sebanyak Responden data terkumpul selanjutnya dilakukan analisis regresi linier berganda Dengan menggunakan alat bantu software SPSS  Hasil analisis pengujian hipotesis diperoleh berikut pengaruh iklan terdiri pesan struktur pesan format pesan sumber pesan mempunyai pengaruh signifikan keputusan konsumen menggunakan kartu seluler parsial diketahui variabel pesan merupakan variabel dominan memberikan pengaruh keputusan konsumen menggunakan kartu seluler Kecamatan GegerxD Keywords Pesan Struktur Pesan Format Pesan Sumber PesanxD', 'KUSNIYAH Analisis Volume Perdagangan Saham Return Saham Sebelum Sesudah Stock Split Pada Perusahaan Public Bursa Efek Indonesia Dibawah bimbingan Evaliati Amaniyah Prasetyo Nugroho Spi MMxD Kenaikan harga saham terlalu tinggi menyebabkan permintaan pembelian saham tersebut mengalami penurunan akhirnya menyebabkan harga saham perusahaan tersebut menjadi statis fluktuatif Untuk menghindari munculnya kondisi tersebut salah satu langkah diambil perusahaan melalui stock split diharapkan meningkatkan likuiditas saham xD Tujuan penelitian bertujuan memperoleh bukti empiris mengenai aktifitas stock split mempunyai perbedaan volume perdagangan saham memperoleh bukti empiris mengenai aktifitas stock split mempunyai perbedaan return saham Pendekatan penelitian digunakan penelitian pendekatan kuantitatif xD Populasi penelitian seluruh perusahaan Public Bursa Efek Indonesia melakukan aktifitas stock split teknik pengambilan sampel menggunakan metode purposive Sampling jumlah sampel perusahaan kemudian dianalisis menggunakan paired sample xD Kesimpulan penelitian terdapat perbedaan volume perdagangan saham sesudah stock split perusahaan sampel terdapat perbedaan volume perdagangan saham sesudah stock split perusahaan sampel terdapat perbedaan return saham sesudah stock split perusahaan sampel terdapat perbedaan return saham sesudah stock split perusahaan sampelxD xD Kata kunci Stock Split Volume Perdagangan Saham Return SahamxD', 'AbstrakxD Penelitian menggunakan metode kuantitatif menekankan pengujian hipotesis Variabel digunakan penelitian kepemimpinan kompensasi Penelitian dilaksanakan Kantor Dinas Pendidikan Kabupaten Sampang sampel digunakan sebanyak orang terdiri pegawai negeri sipil xD Hipotesis pertama menjelaskan variabel bebas bersama–sama mempunyai hubungan signifikan simultan kepemimpinan kompensasi kinerja pegawai terbukti nilai Fhitung tingkat sebesar  nilai sebesar  xD Hipotesis kedua menjelaskan variabel kompensasi variabel mempunyai pengaruh dominan terbukti nilai hitung  berarti terdapat pengaruh positif signifikan parsial variabel bebas variabel terikat xD Kesimpulan penelitian pengujian hipotesis pertama menunjukkan berdasarkan pengujian statistik simultan variabel bebas memiliki pengaruh signifikan variabel terikat Pengujian hipotesis kedua membuktikan variabel kompensasi merupakan variabel berpengaruh dominan kinerja pegawai Dinas Pendidikan Kabupaten Sampang xD Kata kunci Kepemimpinan Kompensasi KinerjaxD', 'ABSTRAKxD xD LUTFI KAMALI Pengaruh Strategi Bauran Pemasaran Terhadap Keputusan Pembelian Botol SOSRO Study Pada Mahasiswa Universitas Trunojoyo Madura Dibawah bimbingan Pribanus Wantara Nirma Kurriwati MSixD Tujuan penelitian mengetahui Strategi Bauran Pemasaran terdiri Produk Harga Promosi Distribusi berpengaruh baik simultan maupun parsial keputusan pembelian konsumen mengetahui variabel manakah berpengaruh dominan keputusan mahasiswa pembelian Botol SOSRO Universitas Trunojoyo Madura Hipotesis diajukan Strategi Bauran Pemasaran terdiri produk harga promosi distribusi berpengaruh signifikan baik simultan maupun parsial keputusan pembelian Sedangkan variabel dominan PromosixD Objek penelitian pembelian Botol SOSRO Universitas Trunojoyo Madura sampel sebanyak mahasiswa Teknik analisis data digunakan untuk meguji hipotesis menggunakan regresi Linier Berganda memakai Berdasar hasil penelitian model regresi Linier Berganda sistematis berikut xD   X X exD Hasil analisis penelitian menunjukkan simultan menggunakan bauran pemasaran terdiri produk harga promosi distribusi bersamasama maupun parsial mempunyai pengaruh signifikan keputusan pembelian mahasiswa botol SOSRO lingkungan Universitas Trunojoyo Madura Sehingga disimpulkan untuk meningkatkan keputusan pembelian mahasiswa botol SOSRO lingkungan Universitas Trunojoyo Madura meningkatkan Strategi bauran pemasaran terdiri produk harga promosi distribusi memprioritaskan promosi memiliki pengaruh dominanxD xD Kata kunci Produk Distribusi Harga Promosi Keputusan PembelianxD', 'Tujuan penelitian mengetahui variabel periklanan promosi penjualan publisitas mempunyai pengaruh keputusan pembelian konsumen mengetahui variabel manakah berpengaruh dominan keputusan pembelian konsumen xD Objek penelitian Mini market Alfamart Kamal sampel sebanyak konsumen berbelanja toko alfamart kamal Teknik analisis data digunakan untuk meguji hipotesis menggunakan regresi Linier Berganda memakai xD Hasil analisis penelitian menyatakan simultan bauran promosi terdiri variabel periklanan promosi penjualan publisitas mempunyai pengaruh signifikan keputusan pembelian konsumen berbelanja toko Alfamart Kamal Secara parsial variabel promosi penjualan publisitas berpengaruh signifikan keputusan pembelian konsumen variabel periklanan berpengaruh secara signifikan keputusan pembelian konsumen berbelanja toko Alfamart Kamal Sedangkan variabel promosi penjualan merupakan variabel dominan mempengaruhi keputusan pembelian Sehingga disimpulkan untuk meningkatkan keputusan pembelian konsumen berbelanja toko Alfamart mini market Alfamart Kamal meningkatkan bauaran promosi segi periklanan promosi penjualan publisitasxD', 'ABSTRAKxD xD Kinerja pegawai sangat dibutuhkan menjalankan aktifitas suatu organisasi mewujudkan visi misi sesuai harapan Kinerja pegawai merupakan suatu perlu ditingkatkan setiap anggota organisasi terlaksananya tujuan organisasi optimal Terkait peningkatan kinerja pegawai terdapat beberapa mempengaruhinya Kepemilikan Saham menejerial Kepemilikan Saham InstitusionalxD Tujuan penelitian untuk mengetahui seberapa pengaruh Kepamilikan Saham menejerial Kepemilikan Saham Institusional peningkatan kinerja karyawanxD Data digunakan penelitian data primer diperoleh penyebaran kuesioner Adapun respondennya karyawan CVYUDHISTIRA CVWEST MAKMUR berjumlah orang teknik pengambilan sampel menggunakan Clustered Sampling Analisis statistik digunakan regresi linier bergandaxD Hasil penelitian Berdasarkan hasil analisis data disimpulkan faktor telah terbukti berpengaruh signifikan peningkatan kinerja pegawai Kepemilikan Saham Institusional faktor Kepemilikan Saham Manajerial terbukti berpengaruh signifikan peningkatan kinerja karyawan CVYUDHISTIRA CVWEST MAKMURxD xD xD word Kepemilikan Saham Manajerial Kepemilikan Saham Institusional peningkatan kinerja karyawanxD', 'Penelitian dilatar belakangi ketatnya persaingan industri otomotif Indonesia munculnya berbagai merek baru pasar khususnya segmen mobil Penelitian bertujuan menguji pengaruh elemenelemen ekuitas merek terdiri kesadaran merek persepsi kualitas asosiasi merek loyalitas merek keputusan pembelian konsumen mobil Suzuki ErtigaxD Setelah dilakukan tinjauan pustaka penyusunan hipotesis data dikumpulkan melalui metode kuesioner orang pengguna mobil Suzuki Ertiga Surabaya diperoleh menggunakan teknik purposive sampling Kemudian dilakukan analisis data diperoleh data kuantitatif Analisis meliputi validitas reliabilitas asumsi klasik analisis regresi berganda pengujian hipotesis melalui FxD Datadata telah memenuhi validitas reliabilitas asumsi klasik dianalisis menggunakan analisis regresi linear berganda menghasilkan persamaan regresi berikut xD  X X X XxD Dimana variabel keputusan pembelian konsumen kesadaran merek persepsi kualitas asosiasi merek loyalitas merek Melalui diketahui hasil menunjukkan variabel kesadaran merek persepsi kualitas asosiasi merek loyalitas merek berpengaruh positif keputusan pembelian Angka Adjusted Square menunjukkan variasi keputusan pembelian konsumen dijelaskan keempat variabel independen persamaan regresi Sedangkan sisanya dijelaskan variabel diluar keempat variabel digunakan penelitian Pengujian hipotesis menggunakan menunjukkan variabel indpenden kesadaran merek persepsi kualitas berpengaruh positif signifikan keputusan pembelian Sedangkan variabel independen lainnya asosiasi merek loyalitas merek berpengaruh signifikan keputusan pembelian konsumen Jadi keempat variabel ekuitas merek kesadaran merek persepsi kualitas asosiasi merek loyalitas merek memiliki pengaruh dominan variabel persepsi kualitasxD Kata kunci keputusan pembelian konsumen kesadaran merek persepsi kualitas asosiasi merek loyalitas merek', 'Abtrak xD USWATUN KHASANAH Pengaruh Etos Kerja Terhadap Presatasi Kerja Karyawan PTPLN Persero Diatribusi Jawa Timur Area Mojokerto xD Pengumpulan data penelitian mengunakan survey kuesioner Kuesioner dibagikan sebagian karyawan Persero Distribusi Jawa Timur Area Mojokerto berjumlah karyawan Teknik analisis data digunakan meguji hipotesis menggunakan regresi Linier Berganda memakai Hasil analisis penelitian menyatakan simultan menggunakan etos kerja terdiri semanagt kerja disiplin kerja kerja sama bersamasama mempunyai pengaruh signifikan prestasi kerja karyawan Persero Distribusi Jawa Timur Area MojokertoxD Secara parsial menggunakan menunjukkan variabel kerja sama semangat kerja berpengaruh signifikan variabel disiplin kerja berpengaruh signifikan prestasi kerja karyawan Persero Distribusi Jawa Timur Area Mojokerto Sedangkan variabel etos kerja merupakan variabel dominan mempengaruhi prestasi kerja karyawan Sehingga disimpulkan untuk meningkatkan prestasi kerja karyawan Persero Distribusi Jawa Timur Area Mojokerto meningkatkan etos kerja kerja sama semangat kerja xD Kata kunci Etos Kerja Prestasi kerjaxD', 'Imam Humaini  Pengaruh modal kerja profitabilitas perusahaan otomotif terdaftar bursa efek indonesia periode tahun  dibawah bimbingan Gatot Heru Pranjoto Purnamawati MsixD Penelitian dilakukan menguji pengaruh variabel perputaran perputaran persediaan perputaran piutang Profitabilitas perusahaan otomotif terdaftar Bursa Efek Indonesia periode  Teknik pengambilan sampel digunakan purposive sampling kriteria perusahaan otomotif menerbitkan mempublikasikan laporan keuangan tahunan  perusahaan tersebut mengalami delisting selama periode pengamatan perusahaan tersebut terdaftar Bursa Efek Indonesia periode pengamatan Data diperoleh berdasarkan publikasi indonesian Capital Market Directori ICMD jumlah sampel memenuhi kriteria sebanyak perusahaan perusahaan otomotif terdaftar xD Teknik analisis digunakan penelitian regresi linier berganda hipotesis menggunakan t–statistik menguji pengaruh variabel variabel parsial fstatistik menguji pengaruh variabel bebas variabel terikat bersamasama level significance Berdasarkan hasil perputaran perputaran persediaan perputaran piutang berpengaruh signifikan Hasil pengaruh simultan menunjukkan secara bersamasama variabel independen berpengaruh signifikan tehadap Nilai adjusted square sebesar  menunjukkan dapat dijelaskan variabel independen perputaran perputaran persediaan perputaran piutang sisanya sebesar dijelaskan variabel lainxD xD Kata Kunci Profitabilitas perputaran perputaran persediaan perputaran piutangxD', 'Tujuan penelitian mengetahui pengaruh kerja malam kinerja karyawan Bagian Debt Collector Pada Perusahaan Kredit Elektronik Surabaya pengaruh psikis kinerja karyawan Bagian Collector Pada Perusahaan Kredit Elektronik Surabaya pengaruh dominan kinerja karyawan Bagian Collector Pada Perusahaan Kredit Elektronik SurabayaxD Penelitian menggunakan pendekatan kuantitatif berusaha mengetahui bagaimana pengaruh beban kerja kerja kinerja karyawan Bagian Debt Collector Pada Perusahaan Kredit Elektronik SurabayaJumlah sampel sebanyak responden Teknik pengumpulan data wawancara kuesioner menggunakan skala likert untuk mengukur jawaban responden Untuk menguji instrumen menggunakan validitas reliabilitas asumsi klasik Sedangkan teknik analisis data menggunakan analisis regresi linier berganda variabel digunakan lebih variabel dengan txD Berdasarkan penelitian regresi linear berganda menunjukkan kerja malam berpengaruh kinerja karyawan kinerja karyawan Bagian Debt Collector Pada Perusahaan Kredit Elektronik Surabaya selanjutnya psikis berpengaruh kinerja karyawan Bagian Debt Collector Pada Perusahaan Kredit Elektronik Surabaya Variabel psikis berpengaruh dominan kinerja karyawan Bagian Debt Collector Pada Perusahaan Kredit Elektronik SurabayaxD', 'ABSTRAKxD Satiyah Pengaruh Faktorfaktor Pelatihan Pengembangan Terhadap Produktivitas Kerja Dinas Kelautan Perikanan Bangkalan Dibawah bimbingan DraHjSAnugrahini Irawati Helmi Buyung Aulia STSE MMTxD Dalam upaya meningkatkan produktivitas kerja tidaklah mudah salah satu usaha produktivitas meningkat menerapkan program pelatihan pengembangan sumber daya manusia perlu dilaksanakan instansi produktivitas tinggi tercapai meningkat kemampuan pegawai bekerja efektif efisien Dengan adanya pelatihan pengembnagan diharapkan pegawai mampu menyesuaikan diri kebutuhankebutuhan baru atas sikap tingkah laku keterampilan pengetahuan sesuai tuntutan perubahan Dengan adanya pelatihan pengembangan pegawai baik dapat mendukung terciptanya suasana kerja kondusif instansi sendirinya produktivitasi kerja meningkatxD Tujuan penelitian mengetahui seberapa besar Pengaruh Faktorfaktor Pelatihan Pengembangan Terhadap Produktivitas Kerja Dinas Kelautan Perikanan Bangkalan Untuk mengukur menganalisa hubungan kedua variabel atas peneliti menggunakan pendekatan observasional analitik melakukan pengamatan langsung responden penyebaran kuisioner untuk dianalisis Penelitian merupakan penelitian populasi responden sampel diolah SPSS Versi  dianalisis menggunakan metode statistik metode probality sampling simple random samplingxD Kesimpulan penelitian Faktorfaktor pelatihan pengembangan terdiri perbedaan individu pegawai hubungan analisis jabatan motivasi partisipasi aktif seleksi peserta seleksi instruktur metode pelatihan pengembangan mempunyai pengaruh simultan produktivitas kerja pegawai Dinas Kelautan Perikanan Kabupaten Bangkalan Terbukti nilai koefisien determinasi berganda square  Fhitung  lebih besar Ftabel  Faktor hubungan dengan analisis jabatan berpengaruh parsial produktivitas kerja pegawai Dinas Kelautan Perikanan Kabupaten Bangkalan Pengujian Hipotesis kedua menunjukkan variabel motivasi terbukti karena dilihat nilai thitung Sebesar  menunjukkan seleksi peserta mempunyai pengaruh dominan produktivitas kerja pegawai instansi Dinas Kelautan Perikanan Bangkalan xD xD Kata kunci Dinas Kelautan Perikanan Faktorfaktor Pelatihan Pengembangan Produktivitas KerjaxD', 'ABSTRAKxD xD xD Hendra Irawan Pengaruh Kepercayaan Komitmen Terhadap Kualitas Hubungan Patner Usaha Pada Adira Dinamika Multi Finance Pamekasan Dibawah Bimbingan Anugrahini Mudji Kuswinanrno SixD Tujuan penlitian untuk mengetahui pengaruh kepercayaan komitmen kualitas hubungan Patner usaha dilaksanakan Adira Dinamika Multi Finance Baik simultan maupun parsial Mengetahui manakah paling berpengaruh kepercayaan komitmen kualitas hubungan Adira Dinamika Multi FinancexD Penelitian dilakukan kuantitatif Dengan menggunakan metode survai Tehnik penarikan sampel menggunakan Quota sampling dianalisis analisis jalur Path Analysis xD Hipotesis Penelitian Kepercayaan komitmen berpengaruh signifikan kualitas hubungan patner usaha Adira dinamika multi finance komitmen paling berpengaruh kualitas hubungan patner usaha Dinamika multi financexD Kesimpulan penelitian studi Variabel kepercayaan komitmen simultan mempunyai pengaruh positif kualitas hubungan patner usahanya Variabel paling berpengaruh kualitas hubungan patner usaha Adira dinamika multi finance Pamekasan variabel kepercayaanxD xD Kata kunci Komitmen KepercayaanxD', 'Penelitian dilatarbelakangi semakin tingginya seseorang bertransaksi melalui internet Indonesia khususnya Pihak pengusaha melakukan penjualan melalui internet mempunyai strategistrategi memenangkan persaingan memberikan kepercayaan kemudahan bertransaksi memberikan kualitas diinginkan konsumen Dari tersebut peran kepercayaan kemudahan kualitas informasi sangat penting Unsurunsur kepercayaan kemudahan kualitas informasi saling terkait pihak pengelola mencapai tujuannya dapat meningkatkanmemuaskan kebutuhan keinginan konsumen xD Tujuan penelitian Untuk mengetahui pengaruh kepercayaan kemudahan kualitas informasi keputusan pembelian online Untuk mengetahui variabel dominan mempengaruhi keputusan pembelian onlinexD Penelitian menggunakan pendekatan kuantitatif berusaha mengetahui bagaimana pengaruh kepercayaan kemudahan kualitas informasi pengambilan keputusan pembelian online situs wwwrumahmadanicom Teknik pengambilan sampel menggunakan probability sampling penentuan sample secara acak tujuan khusus purposive sampling responden Teknik pengumpulan data dengan wawancara chatting kepustakaan kuesioner menggunakan skala likert mengukur jawaban responden Untuk menguji instrumen menggunakan validitas reliabilitas asumsi klasik Sedangkan teknik analisis data menggunakan analisis regresi linier berganda variabel digunakan lebih variabel dengan txD Kata Kunci keputusan pembelian kepercayaan kemudahan kualitas informasixD', 'ABSTRAKxD Penelitian menggunakan metode kuantitatif menekan pengujian hipotesis Variabel gnakan penelitian kepemipinan kharismatik kepemimpinan transaksional kepemimpinan tranforsional Penelitian laksanakan universitas trunojoyo Madura sampel digunakan sebanyak orang teridiri kelompok satpam PTMarina HartaxD Hipotesis pertama menjelaskan variable bebas bersamasama mempunyai hubungan signifikan perilaku kelompok satpam terbukti nilai hitung lebih besar table tingkat   nila sebesar  xD Hipotesis kedua menjelaskan varibel kepemimpinan kharismatik variable mempunyai pengaruh dominan terbukti nilai hitung lebih besar table tingkat signifikan sebesar   xD Kesimpulan penelitian pengujian hipotesis pertama menunjukkan berdasarkan pengujian statistic stimulant variable bebas terdiri kepemimpinan kharismatik kepemimpinan transaksional kepemimpinan transformasional memiliki pengaruh signifikan varibel terikat perilaku satpam Marina harta Unit Pengujian hipotesis kedua membuktikan varibel kepemimpinan karismatik merupakan varibel berpengaruh dominan perilaku kelompok satpam Marina Harta unit UTMxD xD Kata Kunci Gaya kepemimpinan perilaku kelompokxD', 'Penelitian dilatarbelakangi seringnya dilakukan rotasi jabatan terjadi jajaran pejabat Pemerintah Kabupaten Sumenep dilaksanakan mulai level pejabat bekerja dinas instansi SKPD berada wilayah otonomi daerah Kabupaten Sumenep Termasuk Kantor Kelurahan merupakan level pemerintahan paling rendah mempunyai tugas pokok fungsi melayani masyarakat berada wilayahnya bisnis industriAdapun menjadi rumusan masalah penelitian Bagaimana pengaruh rotasi jabatan kepuasan kerja pegawai Kelurahan Kelurahan Kecamatan Kota Kabupaten Sumenep Variabel manakah rotasi jabatan paling berpengaruh kepuasan kerja pegawai Kelurahan Kelurahan Kecamatan Kota Kabupaten Sumenep Penelitian bertujuan Untuk mengetahui tidaknya pengaruh rotasi jabatan kepuasan kerja pegawai Kantor Kelurahan Kecamatan Kota Kabupaten Sumenep Untuk mengetahui seberapa besar pengaruh rotasi jabatan kepuasan kerja pegawai Kantor Kelurahan Kecamatan Kota Kabupaten SumenepxD Dalam penelitian data dikumpulkan melalui metode kuisioner orang pegawai berada empat Kelurahan Kecamatan Kota Sumenep menggunakan metode purposive sampling Bersumber data primer data sekunder teknik pengumpulan data berupa kuisioner wawancara studi dokumentasi Variabel bebas digunakan Standar Kriteria Kebutuhan Formasi Pegawai Tujuan Objektifitas Sedangkan Variabel Kepuasan Kerja untuk mengetahui tanggapan responden masingmasing variabeldilakukan analisis datadata diperoleh berupa analisis kuantitatif analisiskualitatif Analisis kuantitatif meliputi validitas reliabilitas asumsiklasik hipotesis lewat Teknik analisis data digunakan analisis regersi linear berganda berfungsi membuktikan hipotesis penelitian xD Hasil analisis penelitian diketahui bahwasecara stimultan variabel Standar Kriteria kebutuhan Formasi pegawai Tujuan Obyektifitas berpengaruh positif kepuasan kerja tingkat signifikan sebesar  diperkuat hasil distribusi frekuensi variabel kepuasan pegawai sebagian besar responden setuju rotasi jabatan berpengaruh kepuasan kerja pegawai rata rata frekuensi jawaban sebesar  Secara parsial terdapat variabel berpengaruh kelima variabel Variabel Standar Kriteria kebutuhan Formasi pegawai Tujuan Obyektifitas kepuasan kerja pegawai Yaitu variabel standar kriteria variabel kebutuhan Variabel rotasi jabatan paling dominan berpengaruh kepuasan kerja pegawai negeri sipil Kantor Kelurahan Kecamatan Kota Kabupaten Sumenep Variabel Standar Kriteria nilai sebesar sebesar xD xD Kata Kunci Rotasi Jabaran Standar Kriteria Kebutuhan Formasi Pegawai Tujuan Obyektifitas Kepuasan Kerja PegawaixD', 'Syaiful Anwar Pengaruh keselamatan kesehatan kerja produktivitas kerja studi kasus Bagian Produksi Marianal Indo Prima Cabang Pamekasan Dibawah bimbingan Mudji Kuswinarmo MSi Muhammad Akirom Wildan MSixD Latar belakang penelitian Persaingan bidang industri menuntut perusahaan mampu bertahan berkompetisi Salah satu dapat ditempuh perusahaan mampu bertahan persaingan ketat meningkatnya produktivitas kerja Produktivitas kerja dipengaruhi keselamatan kesehatan kerjaxD Penelitian bertujuan meneliti keselamatan kesehatan kerja berpengaruh signifikan produksi kerja karyawan marinal indo prima cabang pamekasan Untuk membuktikan hipotesis penelitian penelitian alat analisis digunakan regresi linear berganda dengan bantuan SPSS Hasil analisis regresi linear berganda peroleh persamaan berikut xD XXexD Dari hasil pengujian variabel diatas menunjukkan bahwasanya variabel keselamatan kesehatan kerja samasama berpengaruh signifikan produktivitas kerja karyawan Marinal Indo PrimaxD xD xD Kata kunci keselamatan kesehatan produktivitas kerjaxD', 'Tujuan penelitian mengetahui variabel terdiri kepribadian merk nilai merk hubungan merkkonsumen citra pengguna simultan memiliki pengaruh signifikan kepuasan konsumen untuk mengetahui variabel manakah kepribadian merk nilai merk hubungan merkkonsumen citra pengguna berpengaruh dominan kepuasan konsumen untuk membuktikan hipotesis penelitian alat analisis digunakan regresi linier berganda bantuan SPSS xD Hasil pengujian menunjukkan nilai Fhitung sebesar  nilai signifikan Fhitung sebesar   berarti pengaruh signifikan variabel kepribadian merk nilai merk hubungan merkkonsumen citra penggunasecara simultan kepuasan konsumen sepeda motor supra xD', 'ABSTRAKxD Dharma Abidin Syah Kesimpulan Terdapat pengaruh signifikan variabel tipe kepemimpinan Autoritarian LaissezFaire Demokratis simultan variabel Prestasi Kerja pegawai kantor Kecamatan Pangarengan Kabupaten Sampang Hasil anova menunjukan nilai Fhitung  Ftabel  Variabel tipe kepemimpinan Autoritarian LaissezFaire Demokratis simultan memberikan kontribusi sebesar  Prestasi Kerja pegawai Tidak terdapat pengaruh signifikan variabel kepemimpinan Tipe Autoritariansecara parsial Prestasi Kerja pegawaidikantor Kecamatan Pangarengan Kabupaten Sampang Hasil menunjukan nilai hitung  tabel  Secara parsial variabel kepemimpinan Tipe Autoritarian memberikan kontribusi sebesar  variabel Prestasi Kerja pegawai Tidak terdapat pengaruh signifikan variabel kepemimpinan Tipe LaissezFairesecara parsial Prestasi Kerja pegawaidikantor Kecamatan Pangarengan Kabupaten SampangxD Hasil menunjukan nilai hitung  tabel  Secara parsial variabel kepemimpinan Tipe LaissezFaire memberikan kontribusi sebesar  variabel Prestasi Kerja pegawai Terdapat pengaruh signifikan variabel kepemimpinan Tipe Demokratis parsial Prestasi Kerja pegawaidikantor Kecamatan Pangarengan Kabupaten Sampang Hasil menunjukan nilai hitung  tabel  Secara parsial variabel kepemimpinan Tipe Demokratis memberikan kontribusi sebesar  variabel Prestasi Kerja pegawai Variabel Tipe Demokratis mempunyai nilai koefisien determinasi lebih besar variabel bebas lainya merupakan variabel dominan berpengaruh variabel Prestasi Kerja pegawai dikantor Kecamatan Pangarengan Kabupaten SampangxD Kata Kunci Tipe Kepemimpinan Prestasi Kerja Pegawai xD', 'Pendekatan penelitian digunakan penelitian pendekatan kuantitatif Populasi penelitian perusahaan liquid terdaftar Bursa Efek Indonesia teknik penarikan sampel menggunakan metode Purpossive Sampling kemudian dianalisis menggunakan regresi linier berganda menggunakan bantuan alat analisis Statistical Program Service Solution SPSS versi xD xD Hipotesis penelitian duga terdapat pengaruh parsial maupun simultan variabel Rasio Likuiditas Current Ratio Struktur Modal Debt Equity Ratio Profitabilitas perusahaan liquid terdaftar Bursa Efek IndonesiaxD xD Hasil penelitian menunjukkan variabel current ratio parsial memiliki pengaruh signifikan Profitabilitas variabel debt equity ratio parsial memiliki pengaruh tidak signifikan Profitabilitas Berdasarkan hasil simultan didapatkan hasil Current Ratio Debt Equity Ratio tidak memiliki pengaruh tidak signifikan Profitabilitas pada perusahaanperusahaan xD xD Kata kunci Likuiditas Current Ratio Struktur Modal Debt Equity Ratio Profitabilitas xD', 'ABSTRAKxD Haryono Arifin Pengaruh Perilaku Konsumen Terhadap Keputusan Pembelian Produk Honda Merek Vario xD Studi Pada Dealler Surya Agung Motor Bangkalan xD xD Tujuan penelitian mengetahui seberapa besar pengaruh perilaku konsumen keputusan pembelian Honda Merek Vario Dealer Surya Agung Motor Bangkalan Untuk mengetahui variabel manakah diantara perilaku konsumen terdiri kebudayaan sosial pribadi psikologis dominan keputusan pembelian konsumen Honda Merek Vario Penelitian menggunakan pendekatan kuantitatif melakukan pengamatan langsung responden penyebaran kuesioner untuk dianalisa penelitian merupakan penelitian menggunakan populasi sebanyak responden konsumen melakukan pembelian Honda Merek Vario Dealer Surya Agung Motor Bangkalan dijadikan responden dianalisis SPSS Versi xD Kesimpulan penelitian Pengujian hipotesis pertama menunjukkan variabel perilaku konsumen kebudayaan sosial pribadi psikologis berpengaruh simultan keputusan pembelian Honda merek Vario Pengujian hipotesis kedua menunjukkan variabel psikologis variabel berpengaruh dominanxD Kata kunci Kebudayaan Sosial Pribadi Psikologis Keputusan PembelianxD', 'Objek penelitian pembelian produk Kecamatan Bangkalan sampel sebanyak konsumen Teknik analisis data digunakan meguji hipotesis menggunakan regresi Linier Berganda memakai Berdasar hasil penelitian model regresi Linier Berganda sistematisxD Hasil analisis penelitian menunjukkan simultan menggunakan bauran pemasaran terdiri produk harga promosi distribusi bersamasama mempunyai pengaruh signifikan keputusan pembelian Pada produk Kecamatan BangkalanSecara parsial menggunakan menunjukkan variabel promosi distribusi berpengaruh signifikan variabel produk harga berpengaruh signifikan keputusan pembelian Pada produk Kecamatan Bangkalan Variabel distribusi berpengaruh keputusan pembelian Sehingga disimpulkan untuk meningkatkan keputusan pembelian produk Kecamatan Bangkalan meningkatkan Strategi Bauran Pemasaran segi promosi distribusixD', 'ABSTRAK Firda Kamalia Analisis Kinerja Sumber Daya Manusia Menggunakan Metode Human Resources Scorecard Universitas Trunojoyo Madura bawah bimbingan Iriani Ismail Dra Mudji Kuswinarno MSi Penelitian bertujuan menganalisis kinerja Universitas Trunojoyo Madura menggunakan metode Human Resources Scorecard HRSC perspektif perspektif keuangan perspektif pelanggan perspektif prose bisnis internal perspektif prose pembelajaran pertumbuhan Penelitian menggunakan data primer data sekunder Pengumpulan data dilakukan melalui wawancara Data dianalisis pendekatan kualitatif analisis hasil wawancara berdasarkan indikator ketersediaan data akurasi objektifitas kredibilitas generalibiitas relevansi praktikal Dari hasil wawancara staf kepala bagian kepegawaian beserta kepala BAUK dikaitkan perspektif Human Resources Scorecard didapat kinerja sumber daya manusia bagian kepegawaian tahun  sebesar  baik mengalami peningkatan signifikan tahun  sebesar  sangat baik menunjukkan manajemen umum optimal Kendati cukup optimal perlu diperbaiki tersebut diakibatkan lemahnya sistem pengukuran kinerja objektif berpatokan Sasaran Kerja Pegawai masih terdapat tenaga memenuhi standar kompetensi membuat indicator kinerja pemindahan pemutaran karyawan Kata Kunci Kinerja Pengukuran Kinerja HRSc', 'Rahbini Pengaruh Harga Kualitas Pelayanan Terhadap Kepuasan Berbelanja Swalayan Jerry Bangkalan dibawah bimbingan Pribanus Wantara Nirma Kurriwati xD Penelitian bertujuan mengukur pengaruh Harga Kualitas Pelayanan Terhadap Kepuasan Berbelanja Swalayan Jerry dilakukan konsumen berbelanja swalayan Jerry jumlah responden penelitian sebanyak responden data terkumpul selanjutnya dilakukan analisis Regresi Linier Berganda Dengan menggunakan alat bantu software SPSS  hasil analisis pengujian hipotesis diperoleh berikut harga kualitas pelayanan mempunyai pengaruh simultan kepuasan berbelanja swalayan Jerry Secara Parsial variabel harga kehandalan daya tanggap jaminan empati bukti fisik mempunyai pengaruh parsial kepuasan berbelanja swalayan Jerry Bangkalan variabel harga merupakan variabel dominan berpengaruh kepuasan berbelanja swalayan Jerry Bangkalan xD xD Kata Kunci Harga Keandalan Daya Tanggap Jaminan Empati Bukti FisikxD', 'xD Gilang Reza Khasogi pengaruh pemberian kompensasi motivasi kinerja karyawan Cerelia Bangkalan Dibawah bimbingan Alkirom Wildan SE MSi DrsEc Mudji KuswinarnoMSi xD Dunia bisnis sekarang dituntut menciptakan kinerja karyawan tinggi pengembangan perusahaan Perusahaan mampu membangun meningkatkan kinerja lingkungannya Cerelia terletak Bangkalan merupakan perusahaan bergerak dibidang penyedia alat tulis aksesoris menyadari pentingnya meningkatkan motivasi menghasilkan kinerja karyawan optimal mencapai tujuan perusahaan meningkatkan laba xD xD Tujuan penelitian mengetahui variabel terdiri kompensasi finansial kompensasi finansial motivasi simultan memiliki pengaruh signifikan kinerja karyawan untuk mengetahui variabel manakah kompensasi finansial kompensasi finansial motivasi berpengaruh dominan kinerja karyawan untuk membuktikan hipotesis penelitian alat analisis digunakan regresi linier berganda bantuan SPSS xD xD Hasil pengujian menunjukkan nilai Fhitung sebesar  nilai signifikan Fhitung sebesar   berarti pengaruh signifikan variabel kompensasi finansial langsung kompensasi finansial langsung kompensasi nonfinansial simultan kinerja karyawan Cerelia aksesoris stationary BangkalanxD Koefisien determinasi berganda square sebesar  berarti bersamasama  perubahan variabel kinerja karyawan CVCerelia aksesoris stationary Bangkalan disebabkan variabel kompensasi finansial kompensasi finansial motivasi Sedangkan sisanya  disebabkan variabel masuk model Dari hasil penelitian variabel kompensasi finansial terbukti kebenarannya yang berpengaruh dominan nilai beta sebesar xD xD Kata kunci kompensasi motivasi kinerja karyawan xD xD', 'AbstrakxD xD Aththaariq Pengaruh Kompetensi Dosen Terhadap Kinerja Dosen Universitas Trunojoyo Madura Dibawah bimbingan DrRM Moch Wispandono SE Muhammad Alkirom Wildan SE MSixD Penelitian bertujuan menganalisis pengaruh kompetensi pedagogik kompetensi profesional kompetensi sosial kompetensi kepribadian variabel terikat kinerja dosen Universitas Trunojoyo MaduraxD Data digunakan penelitian data primer data tersebut diperoleh hasil penyebaran kuesioner menjadi responden penelitian dosen Universitas Trunojoyo Madura sudah tersertifikasi aktif mulai tahun  berjumlah dosen teknik pengambilan sampel menggunakan judgmental sampling menggunakan metode analisis regresi linier bergandaxD Dari hasil penelitian telah dilakukan berdasarkan hasil analisis disimpulkan kompetensi pedagogik kompetensi profesional kompetensi sosial kompetensi kepribadian berpengaruh signifikan variabel terikat kinerja dosen baik simultan maupun parsial Pada nilai koefisiensi determinasi berganda menunjukkan nilai sebesar  artinya  kinerja dosen dipengaruhi perubahan semua variabel bebas telah diteliti sisanya  dipengaruhi variabel tidak diteliti Sedangkan variabel yang memiliki pengaruh dominan variabel kompetensi pedagogik nilai signifikansi sebesar  memiliki nilai beta sebesar  xD xD Kata kunci Kompetensi pedagogik kompetensi profesional kompetensi sosial kompetensi kepribadian kinerja dosenxD xD']\n"
     ]
    }
   ],
   "source": [
    "from Sastrawi.StopWordRemover.StopWordRemoverFactory import StopWordRemoverFactory\n",
    "from nltk.tokenize import word_tokenize\n",
    "import string\n",
    "factory = StopWordRemoverFactory()\n",
    "dokumenst=[]\n",
    "for i in dokumenstop:\n",
    "    output = i.translate(str.maketrans(\"\",\"\",string.punctuation))\n",
    "    dokumenst.append(output)\n",
    "    \n",
    "print(dokumenst)"
   ]
  },
  {
   "cell_type": "markdown",
   "metadata": {},
   "source": [
    "sama dengan kode sebelumnya kode ini digunakan untuk "
   ]
  },
  {
   "cell_type": "markdown",
   "metadata": {
    "_uuid": "dc01093ea4f6bd35e492e5136bec2ef90f8a1bf5",
    "id": "PHPX62iRV_ux",
    "outputId": "729f2f07-09c5-477b-fcfd-72a166982d35"
   },
   "source": [
    "setelah itu jadikan df_bersih sebagai df lalu ditampilkan"
   ]
  },
  {
   "cell_type": "markdown",
   "metadata": {
    "_uuid": "9338f9639490e9ef06a76ed818db757d83d6c582"
   },
   "source": [
    "## Melakukan Ekstraksi Fitur dan Membuat Dokumen term Matrix"
   ]
  },
  {
   "cell_type": "markdown",
   "metadata": {
    "_uuid": "ac1c4d306d9c1ea25c1b28250b386a8d8fde4134"
   },
   "source": [
    "dokumen term matrix atau disingkan DTM adalah representasi dari dokumen dalam corpus. DTM akan mempresentasikan dokumen dalam struktur numerik. melalui DTM kita dapat melakukan analisis yang lebih menarik."
   ]
  },
  {
   "cell_type": "code",
   "execution_count": 78,
   "metadata": {
    "_uuid": "219d5fa37fbffff1c1acdeb46722a40cee1842a2",
    "id": "zlVvCr7qWkqA",
    "outputId": "9eb1561b-ef0b-4a00-bea3-5122c407bc9e"
   },
   "outputs": [
    {
     "name": "stdout",
     "output_type": "stream",
     "text": [
      "(30, 905)\n",
      "  (0, 1)\t1.0\n",
      "  (1, 900)\t0.02083318912701066\n",
      "  (1, 573)\t0.05399580353657585\n",
      "  (1, 382)\t0.0662762533413926\n",
      "  (1, 304)\t0.0237928769955213\n",
      "  (1, 496)\t0.027348148476146614\n",
      "  (1, 238)\t0.0237928769955213\n",
      "  (1, 871)\t0.05004238172655131\n",
      "  (1, 125)\t0.03962859828096337\n",
      "  (1, 407)\t0.041715353731759094\n",
      "  (1, 142)\t0.0237928769955213\n",
      "  (1, 73)\t0.0246170695089527\n",
      "  (1, 418)\t0.02836082089518089\n",
      "  (1, 685)\t0.0246170695089527\n",
      "  (1, 23)\t0.04166637825402132\n",
      "  (1, 727)\t0.03453175110395285\n",
      "  (1, 361)\t0.05004238172655131\n",
      "  (1, 37)\t0.05004238172655131\n",
      "  (1, 687)\t0.046812200908769606\n",
      "  (1, 882)\t0.046812200908769606\n",
      "  (1, 271)\t0.05399580353657585\n",
      "  (1, 484)\t0.046812200908769606\n",
      "  (1, 286)\t0.05004238172655131\n",
      "  (1, 485)\t0.046812200908769606\n",
      "  (1, 876)\t0.05096296423383561\n",
      "  :\t:\n",
      "  (29, 496)\t0.022560869814094962\n",
      "  (29, 238)\t0.058883840074247504\n",
      "  (29, 142)\t0.019627946691415835\n",
      "  (29, 73)\t0.02030786474925057\n",
      "  (29, 418)\t0.023396274471565073\n",
      "  (29, 685)\t0.02030786474925057\n",
      "  (29, 23)\t0.03437270118061988\n",
      "  (29, 727)\t0.028486986670725495\n",
      "  (29, 383)\t0.03115172607601002\n",
      "  (29, 117)\t0.06531193439562602\n",
      "  (29, 690)\t0.028486986670725495\n",
      "  (29, 708)\t0.026233981605881106\n",
      "  (29, 705)\t0.022560869814094962\n",
      "  (29, 586)\t0.03441310352735603\n",
      "  (29, 825)\t0.023396274471565073\n",
      "  (29, 481)\t0.035519169888771844\n",
      "  (29, 179)\t0.021770644798542006\n",
      "  (29, 81)\t0.018356222990447407\n",
      "  (29, 883)\t0.10311810354185964\n",
      "  (29, 761)\t0.023396274471565073\n",
      "  (29, 773)\t0.13363160162290236\n",
      "  (29, 583)\t0.06236134857308271\n",
      "  (29, 95)\t0.02731711427058803\n",
      "  (29, 836)\t0.03115172607601002\n",
      "  (29, 587)\t0.048309653776809056\n"
     ]
    }
   ],
   "source": [
    "vect =TfidfVectorizer(stop_words=stop_words,max_features=1000) # to play with. min_df,max_df,max_features etc...\n",
    "vect_text=vect.fit_transform(dokumenst)\n",
    "print(vect_text.shape)\n",
    "print(vect_text)"
   ]
  },
  {
   "cell_type": "markdown",
   "metadata": {
    "_uuid": "feacf23db532c748405fc7b908de218f2511b931"
   },
   "source": [
    "dengan menggunakan code diatas kita dapat melihat kata kata yang paling sering keluar dan juga kata kata yang jarang keluar dengan cara memperhatikan seberapa besar skor idf. semakin kecil nilai dari skor idf berarti semakin sering muncul kata tersebut."
   ]
  },
  {
   "cell_type": "markdown",
   "metadata": {},
   "source": [
    "# K Means Clustering"
   ]
  },
  {
   "cell_type": "code",
   "execution_count": 93,
   "metadata": {},
   "outputs": [
    {
     "name": "stdout",
     "output_type": "stream",
     "text": [
      "[[0.         1.         0.         ... 0.         0.         0.        ]\n",
      " [0.         0.         0.         ... 0.         0.         0.        ]\n",
      " [0.         0.         0.         ... 0.         0.         0.        ]\n",
      " ...\n",
      " [0.         0.         0.         ... 0.         0.         0.        ]\n",
      " [0.         0.         0.         ... 0.         0.         0.0448034 ]\n",
      " [0.         0.         0.03115173 ... 0.         0.         0.04874851]]\n"
     ]
    }
   ],
   "source": [
    "from sklearn.feature_extraction.text import TfidfVectorizer\n",
    "import numpy as np\n",
    "from scipy.sparse.csr import csr_matrix\n",
    "\n",
    "vectorizer = TfidfVectorizer(input=dokumenst)\n",
    "\n",
    "X = vectorizer.fit_transform(dokumenst)\n",
    "print(X.todense())"
   ]
  },
  {
   "cell_type": "code",
   "execution_count": null,
   "metadata": {},
   "outputs": [],
   "source": []
  },
  {
   "cell_type": "code",
   "execution_count": null,
   "metadata": {},
   "outputs": [],
   "source": []
  },
  {
   "cell_type": "code",
   "execution_count": null,
   "metadata": {},
   "outputs": [],
   "source": []
  },
  {
   "cell_type": "code",
   "execution_count": 79,
   "metadata": {
    "_uuid": "d36edc03b2cc88ef61651cd6c9deb470817e64df",
    "id": "yQZpp5YMXPkb"
   },
   "outputs": [
    {
     "name": "stdout",
     "output_type": "stream",
     "text": [
      "penelitian yaitu\n",
      "3.740840023925201\n",
      "2.8245492920510458\n"
     ]
    }
   ],
   "source": [
    "''''idf=vect.idf_\n",
    "dd=dict(zip(vect.get_feature_names_out(), idf))\n",
    "l=sorted(dd, key=(dd).get)\n",
    "# print(l)\n",
    "print(l[0],l[-1])\n",
    "print(dd['kemajuan'])\n",
    "print(dd['sangat'])"
   ]
  },
  {
   "cell_type": "markdown",
   "metadata": {},
   "source": [
    "code di atas digunakan untuk melakukan extraksi fitur dari vectorizer. lalu pada 2 baris terbawah digunakan untuk menampilkan kata dari gerak dan hidup."
   ]
  },
  {
   "cell_type": "code",
   "execution_count": 80,
   "metadata": {},
   "outputs": [],
   "source": [
    "''''from sklearn.feature_extraction.text import TfidfVectorizer\n",
    "from sklearn.cluster import KMeans"
   ]
  },
  {
   "cell_type": "code",
   "execution_count": 81,
   "metadata": {},
   "outputs": [],
   "source": [
    "''''def preprocessing(line):\n",
    "    line = line.lower()\n",
    "    line = re.sub(r\"[{}]\".format(string.punctuation), \" \", line)\n",
    "    return line"
   ]
  },
  {
   "cell_type": "code",
   "execution_count": 82,
   "metadata": {},
   "outputs": [],
   "source": [
    "'''''#tfidf_vectorizer = TfidfVectorizer(preprocessor=preprocessing)\n",
    "#tfidf = tfidf_vectorizer.fit_transform(all_text)\n",
    "\n",
    "#vect =TfidfVectorizer(stop_words=stop_words,max_features=1000) # to play with. min_df,max_df,max_features etc...\n",
    "#vect_text=vect.fit_transform(df)\n",
    "\n",
    "kmeans = KMeans(n_clusters=2).fit(vect_text)"
   ]
  },
  {
   "cell_type": "code",
   "execution_count": 91,
   "metadata": {},
   "outputs": [],
   "source": [
    "''''\n",
    "lines_for_predicting = [\"kemajuan teknologi\", \"teknik analisis\"]\n",
    "k = kmeans.predict(vect.transform(lines_for_predicting))\n",
    "\n",
    "# array([0, 1], dtype=int32)"
   ]
  },
  {
   "cell_type": "code",
   "execution_count": null,
   "metadata": {},
   "outputs": [],
   "source": []
  },
  {
   "cell_type": "code",
   "execution_count": null,
   "metadata": {},
   "outputs": [],
   "source": []
  },
  {
   "cell_type": "code",
   "execution_count": null,
   "metadata": {},
   "outputs": [],
   "source": []
  },
  {
   "cell_type": "markdown",
   "metadata": {},
   "source": [
    "## Topic Modelling Menggunakan LSA"
   ]
  },
  {
   "cell_type": "markdown",
   "metadata": {
    "_uuid": "d3998f5b7d7eaed5d18d08830d2ba9ba8dd7fcd6",
    "id": "UUxESGqhXX07"
   },
   "source": [
    "Pada langkah sebelumnya adalah langkah langkah agar teks siap diproses pada langkah ini. Jadi pada langkah ini adalah langkah untuk melakukan pendekatan LSA. Pada dasarnya LSA adalah dekomposisi nilai tunggal"
   ]
  },
  {
   "cell_type": "code",
   "execution_count": 95,
   "metadata": {},
   "outputs": [],
   "source": [
    "from sklearn.decomposition import TruncatedSVD\n",
    "lsa_model = TruncatedSVD(n_components=10, algorithm='randomized', n_iter=10, random_state=42)\n",
    "\n",
    "lsa_top=lsa_model.fit_transform(X)\n"
   ]
  },
  {
   "cell_type": "markdown",
   "metadata": {},
   "source": [
    "pada code diatas digunakan untuk memproses dekomposisi kalimat yang ada di Abstrak menggunakan TruncatedSVD lalu disimpan di dalam variabel bernama lsa_top"
   ]
  },
  {
   "cell_type": "code",
   "execution_count": 96,
   "metadata": {},
   "outputs": [
    {
     "name": "stdout",
     "output_type": "stream",
     "text": [
      "[[ 5.84783688e-03 -1.40019532e-02 -3.65464815e-02 -3.30116063e-02\n",
      "  -2.59207380e-02 -5.15933799e-02  1.01094170e-01  5.50073498e-02\n",
      "   4.27990103e-01  4.36419145e-01]\n",
      " [ 4.52212289e-01  2.50371036e-01  1.23908128e-01 -1.80061576e-01\n",
      "   3.56151704e-01 -2.40669112e-01 -2.06746073e-01  1.84319483e-02\n",
      "   1.76353232e-01 -4.80813144e-02]\n",
      " [ 5.38849668e-01  3.82341733e-01 -1.49519498e-01  1.85092593e-01\n",
      "  -2.67648520e-01  5.89294195e-02  6.54253953e-03  5.97221843e-03\n",
      "  -1.20988284e-01  9.83422355e-02]\n",
      " [ 2.13720623e-01 -3.01620361e-01 -2.68181324e-01  2.87840416e-01\n",
      "   2.14476286e-01 -1.03730897e-01 -1.10699295e-01  9.26975226e-02\n",
      "  -1.58230224e-01 -9.00428806e-02]\n",
      " [ 3.25216438e-01 -3.86407472e-01 -3.37586633e-01 -1.96222999e-01\n",
      "  -5.96582665e-03 -2.42912120e-01  1.08584662e-01 -9.88998096e-02\n",
      "  -1.37143284e-01 -8.52530161e-02]\n",
      " [ 2.87589640e-01  1.26842258e-01  4.63086573e-02 -7.55301022e-03\n",
      "   1.07866209e-01  2.77934491e-02  5.30872358e-02 -9.12446148e-03\n",
      "   2.82317446e-01 -2.60288682e-01]\n",
      " [ 1.46964452e-01 -1.07249969e-01 -2.34007411e-01 -1.59037258e-01\n",
      "   2.73114290e-02  4.78925187e-01 -4.09870938e-01  3.87801627e-01\n",
      "  -2.73711537e-02  6.83535581e-03]\n",
      " [ 4.79671221e-01 -3.46539780e-01  4.62243780e-01 -1.95567615e-01\n",
      "  -2.58850482e-01 -4.68013788e-02 -5.15398279e-02  2.76447906e-02\n",
      "  -1.87597232e-01  1.11638963e-02]\n",
      " [ 5.14333321e-01  4.27707259e-01 -1.96300643e-01  1.21713409e-01\n",
      "  -3.80606600e-01 -1.17792468e-02  4.03437577e-02  1.79050658e-02\n",
      "  -5.70616426e-02  5.30178248e-02]\n",
      " [ 4.45634666e-01  3.61784641e-01 -4.70546982e-02  2.56705551e-02\n",
      "  -4.45592326e-02 -1.99574521e-02  8.48400423e-03  2.16564314e-02\n",
      "  -3.34006583e-02 -1.34582357e-01]\n",
      " [ 2.38298403e-01 -2.98239258e-01 -3.11314061e-01 -2.04935620e-01\n",
      "  -2.40509759e-02  1.44735348e-01 -2.24966896e-01  5.34709882e-01\n",
      "  -1.29325165e-02 -5.87109918e-03]\n",
      " [ 3.37797221e-01  2.24037511e-01  3.90436618e-02 -1.53513539e-01\n",
      "   3.52634244e-01 -6.68057209e-02 -7.69344142e-02 -6.99321380e-02\n",
      "  -4.19068807e-02  1.43645642e-01]\n",
      " [ 3.04454843e-01 -2.64927982e-01 -6.63593890e-02  5.10249321e-01\n",
      "   6.12591122e-02 -9.34990896e-02 -3.72285339e-02 -1.26076108e-01\n",
      "   4.12907371e-02  1.38053048e-01]\n",
      " [ 2.28248227e-01 -1.15282644e-01 -1.55837879e-02 -7.91816155e-02\n",
      "   2.09471434e-02  4.67834284e-01 -2.08312634e-01 -4.26881454e-01\n",
      "   1.16004542e-01  4.44548253e-02]\n",
      " [ 3.10091159e-01 -2.98055492e-01 -3.74746446e-01 -8.90710602e-02\n",
      "   8.46081559e-02 -7.79191581e-02  4.33174436e-03 -2.75768890e-01\n",
      "   2.22665667e-02  4.33111355e-02]\n",
      " [ 3.04493458e-01 -2.85276801e-01  1.04782272e-01  3.13970432e-01\n",
      "   1.93086489e-01 -4.47186057e-02  1.24269421e-02  1.65331724e-01\n",
      "   3.85025211e-04 -1.14446881e-01]\n",
      " [ 1.91902639e-01  1.41780200e-03  8.71884266e-02 -8.13442425e-02\n",
      "   2.62173572e-01  2.89562384e-01  4.81900403e-01  7.11243766e-02\n",
      "  -3.83336731e-01  3.25146017e-01]\n",
      " [ 3.39110072e-01  1.61276594e-01 -3.78450875e-02 -1.23069703e-01\n",
      "   4.07365477e-01  1.41349920e-01  2.68848823e-01  5.41427504e-02\n",
      "  -1.81883930e-01  2.88952158e-01]\n",
      " [ 2.77671558e-01 -1.59168135e-01  4.88509926e-01 -1.52056462e-01\n",
      "  -1.95872041e-01 -9.96335716e-02 -2.18733886e-01  5.35535833e-02\n",
      "  -1.56277732e-01  2.35765772e-01]\n",
      " [ 3.37210375e-01 -2.01554853e-01  2.26715689e-01  2.45890253e-01\n",
      "   5.55269795e-02  1.47092849e-01  1.54698652e-01  2.08347181e-01\n",
      "   3.00349766e-01 -9.04389479e-02]\n",
      " [ 2.70486836e-01 -2.81062444e-01 -1.09750742e-01  4.49587685e-01\n",
      "   2.19669590e-01 -2.72514303e-02 -1.70913687e-02 -1.31924990e-01\n",
      "  -4.49734462e-02 -1.84714188e-02]\n",
      " [ 2.82775219e-01 -8.85843268e-02  2.82494212e-01 -1.25330917e-01\n",
      "  -1.06886255e-02  1.24894097e-01  2.70606157e-01 -9.87931947e-04\n",
      "   5.25972186e-02 -3.36043474e-01]\n",
      " [ 3.30385530e-01 -2.57823649e-01  4.14210320e-01  2.96604031e-01\n",
      "  -1.38137855e-01  4.01237585e-02 -1.19361330e-01  4.08933817e-02\n",
      "   1.10953523e-01  2.39549009e-01]\n",
      " [ 2.28374114e-01 -1.01939196e-01 -2.68069183e-02 -1.21666444e-01\n",
      "   2.29174058e-03  4.43058719e-01 -1.66544720e-01 -4.75568860e-01\n",
      "   9.90191433e-02 -1.49566892e-02]\n",
      " [ 4.46689765e-01  2.82612924e-01  1.52588525e-01 -2.26222978e-01\n",
      "   3.84689031e-01 -2.78700206e-01 -2.79547563e-01 -1.30427175e-02\n",
      "   9.23160390e-02 -4.97667483e-02]\n",
      " [ 5.99890702e-01  4.67745952e-01 -1.65715140e-01  1.85540712e-01\n",
      "  -2.97664861e-01 -8.26472796e-03 -3.01933430e-02  6.95778136e-03\n",
      "  -6.20577752e-02 -6.98892129e-03]\n",
      " [ 2.30233767e-01 -2.41134938e-01 -2.85430522e-01 -2.14471097e-01\n",
      "  -1.28557603e-01 -1.48713028e-01  2.27442012e-01  1.00481693e-01\n",
      "   3.81729249e-01  2.41629084e-01]\n",
      " [ 2.69711939e-01  7.13581416e-02  6.68527545e-02  5.29517869e-03\n",
      "   5.64193938e-02  2.59292074e-01  3.47643657e-01  1.34245723e-01\n",
      "   1.33965547e-01 -3.74212237e-01]\n",
      " [ 3.72918626e-01 -3.85955188e-01 -5.54602620e-02 -2.88176720e-01\n",
      "  -1.84063316e-01 -1.95680461e-01  7.71869393e-02 -1.37341946e-01\n",
      "  -2.65709368e-01 -2.09131214e-01]\n",
      " [ 2.71998713e-01 -1.58028411e-01 -5.55409038e-02 -2.56010046e-01\n",
      "  -1.91189344e-01 -5.87579260e-02  2.01469841e-01 -4.17926209e-02\n",
      "   2.79459753e-01  5.56603512e-02]]\n",
      "(30, 10)\n"
     ]
    }
   ],
   "source": [
    "print(lsa_top)\n",
    "print(lsa_top.shape)  # (no_of_doc*no_of_topics)"
   ]
  },
  {
   "cell_type": "markdown",
   "metadata": {},
   "source": [
    "setelah itu dipanggil untuk ditampilkan seperti pada code diatas."
   ]
  },
  {
   "cell_type": "code",
   "execution_count": 97,
   "metadata": {},
   "outputs": [
    {
     "name": "stdout",
     "output_type": "stream",
     "text": [
      "Document 0 :\n",
      "Topic  0  :  0.5847836879939213\n",
      "Topic  1  :  -1.4001953216046097\n",
      "Topic  2  :  -3.6546481454772217\n",
      "Topic  3  :  -3.3011606261433983\n",
      "Topic  4  :  -2.5920737984100652\n",
      "Topic  5  :  -5.15933798734842\n",
      "Topic  6  :  10.109417040899727\n",
      "Topic  7  :  5.500734983370039\n",
      "Topic  8  :  42.79901027761908\n",
      "Topic  9  :  43.64191448928669\n"
     ]
    }
   ],
   "source": [
    "l=lsa_top[0]\n",
    "print(\"Document 0 :\")\n",
    "for i,topic in enumerate(l):\n",
    "  print(\"Topic \",i,\" : \",topic*100)"
   ]
  },
  {
   "cell_type": "markdown",
   "metadata": {},
   "source": [
    "pada code diatas yang dipanggil hanya pada abstrak ke 1 atau pada code menggunakan index ke 0"
   ]
  },
  {
   "cell_type": "code",
   "execution_count": 98,
   "metadata": {},
   "outputs": [
    {
     "name": "stdout",
     "output_type": "stream",
     "text": [
      "(10, 905)\n",
      "[[ 0.00408816  0.00584784  0.03218957 ...  0.00590165  0.00349141\n",
      "   0.00855317]\n",
      " [-0.00533497 -0.01400195 -0.0147126  ... -0.0102549  -0.00348976\n",
      "  -0.01193013]\n",
      " [ 0.01199273 -0.03654648  0.03202769 ... -0.00560592  0.00549563\n",
      "  -0.00347077]\n",
      " ...\n",
      " [ 0.00155921  0.05500735  0.02730259 ... -0.00903148  0.00678123\n",
      "  -0.00737162]\n",
      " [ 0.00457763  0.4279901  -0.01513773 ... -0.00353066  0.01033061\n",
      "   0.00174788]\n",
      " [ 0.01008189  0.43641914  0.02363544 ... -0.00139902 -0.00314761\n",
      "  -0.0064562 ]]\n"
     ]
    }
   ],
   "source": [
    "print(lsa_model.components_.shape) # (no_of_topics*no_of_words)\n",
    "print(lsa_model.components_)"
   ]
  },
  {
   "cell_type": "markdown",
   "metadata": {},
   "source": [
    "setelah itu ditampilkan seperti pada code diatas"
   ]
  },
  {
   "cell_type": "code",
   "execution_count": 99,
   "metadata": {},
   "outputs": [
    {
     "name": "stdout",
     "output_type": "stream",
     "text": [
      "Topic 0: \n",
      "variabel keputusan pembelian penelitian kerja produk kinerja konsumen promosi pengaruh \n",
      "\n",
      "Topic 1: \n",
      "keputusan pembelian produk promosi konsumen merek pemasaran bauran distribusi harga \n",
      "\n",
      "Topic 2: \n",
      "kepemimpinan nilai variabel kabupaten pegawai perilaku pengujian tipe kompensasi hipotesis \n",
      "\n",
      "Topic 3: \n",
      "kerja produktivitas prestasi distribusi komunikasi kesehatan keselamatan kecamatan produk area \n",
      "\n",
      "Topic 4: \n",
      "merek kualitas kepercayaan produktivitas konsumen psikologis kemudahan kerja perilaku komunikasi \n",
      "\n",
      "Topic 5: \n",
      "perputaran saham ratio profitabilitas perusahaan split stock kualitas kepuasan terdaftar \n",
      "\n",
      "Topic 6: \n",
      "kualitas kepercayaan kepuasan komitmen hubungan merk dinamika multi patner kompetensi \n",
      "\n",
      "Topic 7: \n",
      "saham kepemilikan pegawai peningkatan split stock organisasi institusional kepuasan perbedaan \n",
      "\n",
      "Topic 8: \n",
      "abstrak kompetensi pesan perspektif kepuasan dosen kabupaten kelurahan pegawai kerja \n",
      "\n",
      "Topic 9: \n",
      "abstrak kepercayaan kepemimpinan kualitas prestasi kemudahan komitmen dinamika multi patner \n",
      "\n"
     ]
    }
   ],
   "source": [
    "# most important words for each topic\n",
    "vocab = vect.get_feature_names_out()\n",
    "\n",
    "for i, comp in enumerate(lsa_model.components_):\n",
    "    vocab_comp = zip(vocab, comp)\n",
    "    sorted_words = sorted(vocab_comp, key= lambda x:x[1], reverse=True)[:10]\n",
    "    print(\"Topic \"+str(i)+\": \")\n",
    "    for t in sorted_words:\n",
    "        print(t[0],end=\" \")\n",
    "    print(\"\\n\")"
   ]
  },
  {
   "cell_type": "markdown",
   "metadata": {},
   "source": [
    "ketika code diatas itu dijalankan maka akan tampil topic topic seperti pada contoh diatas. lalu kita dapat menganalisis hasil dari code tersebut untuk langkah selanjutnya."
   ]
  }
 ],
 "metadata": {
  "kernelspec": {
   "display_name": "Python 3 (ipykernel)",
   "language": "python",
   "name": "python3"
  },
  "language_info": {
   "codemirror_mode": {
    "name": "ipython",
    "version": 3
   },
   "file_extension": ".py",
   "mimetype": "text/x-python",
   "name": "python",
   "nbconvert_exporter": "python",
   "pygments_lexer": "ipython3",
   "version": "3.9.5"
  }
 },
 "nbformat": 4,
 "nbformat_minor": 4
}
